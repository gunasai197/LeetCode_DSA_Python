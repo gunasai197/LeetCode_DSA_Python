{
 "cells": [
  {
   "cell_type": "markdown",
   "id": "364e5d92",
   "metadata": {},
   "source": [
    "35. Search Insert Position.\n",
    "Given a sorted array of distinct integers and a target value, return the index if the target is found. If not, return the index where it would be if it were inserted in order. https://leetcode.com/problems/search-insert-position/description/\n",
    "\n",
    "You must write an algorithm with O(log n) runtime complexity.\n",
    "\n",
    "Example 1:\n",
    "Input: nums = [1,3,5,6], target = 5\n",
    "Output: 2\n",
    "\n",
    "Example 2:\n",
    "Input: nums = [1,3,5,6], target = 2\n",
    "Output: 1\n",
    "\n",
    "Example 3:\n",
    "Input: nums = [1,3,5,6], target = 7\n",
    "Output: 4\n",
    " "
   ]
  },
  {
   "cell_type": "code",
   "execution_count": 4,
   "id": "b1819743",
   "metadata": {},
   "outputs": [
    {
     "data": {
      "text/plain": [
       "4"
      ]
     },
     "execution_count": 4,
     "metadata": {},
     "output_type": "execute_result"
    }
   ],
   "source": [
    "def search_insert(nums,target):\n",
    "\n",
    "    l,r = 0, len(nums) - 1\n",
    "\n",
    "    while l <= r:\n",
    "        mid = (l+r) // 2\n",
    "        if target == nums[mid]:\n",
    "            return mid\n",
    "        if target > nums[mid]:\n",
    "            l = mid + 1\n",
    "        else:\n",
    "            r = mid -1\n",
    "    return l\n",
    "\n",
    "\n",
    "\n",
    "nums = [1,3,5,6]\n",
    "target = 7\n",
    "search_insert(nums,target)"
   ]
  },
  {
   "cell_type": "markdown",
   "id": "bf11685c",
   "metadata": {},
   "source": [
    "Given an array nums of size n, return the majority element. link --->https://leetcode.com/problems/majority-element/description/?envType=problem-list-v2&envId=array\n",
    "\n",
    "The majority element is the element that appears more than ⌊n / 2⌋ times. You may assume that the majority element always exists in the array.\n",
    "\n",
    "Example 1:\n",
    "Input: nums = [3,2,3]\n",
    "Output: 3\n",
    "\n",
    "Example 2:\n",
    "Input: nums = [2,2,1,1,1,2,2]\n",
    "Output: 2"
   ]
  },
  {
   "cell_type": "code",
   "execution_count": 6,
   "id": "ff5a6dd4",
   "metadata": {},
   "outputs": [
    {
     "data": {
      "text/plain": [
       "1"
      ]
     },
     "execution_count": 6,
     "metadata": {},
     "output_type": "execute_result"
    }
   ],
   "source": [
    "def majority_element(nums):\n",
    "\n",
    "    result = nums[0]\n",
    "    count = 0\n",
    "    for val in nums:\n",
    "        if count == 0:\n",
    "            result = val\n",
    "        if val == result:\n",
    "             count+=1\n",
    "        else:\n",
    "            count-=1\n",
    "    return result\n",
    "\n",
    "\n",
    "nums = [2,2,1,1,1]\n",
    "majority_element(nums)"
   ]
  },
  {
   "cell_type": "markdown",
   "id": "d0e4bc3f",
   "metadata": {},
   "source": [
    "27. Remove Element link ---> https://leetcode.com/problems/remove-element/description/?envType=problem-list-v2&envId=array\n",
    "Given an integer array nums and an integer val, remove all occurrences of val in nums in-place. The order of the elements may be changed. Then return the number of elements in nums which are not equal to val.\n",
    "\n",
    "Consider the number of elements in nums which are not equal to val be k, to get accepted, you need to do the following things:\n",
    "\n",
    "Change the array nums such that the first k elements of nums contain the elements which are not equal to val. The remaining elements of nums are not important as well as the size of nums.\n",
    "\n",
    "Return k.\n",
    "Example 1:\n",
    "\n",
    "Input: nums = [3,2,2,3], val = 3\n",
    "Output: 2, nums = [2,2,_,_]\n",
    "Example 2:\n",
    "\n",
    "Input: nums = [0,1,2,2,3,0,4,2], val = 2\n",
    "Output: 5, nums = [0,1,4,0,3,_,_,_]\n"
   ]
  },
  {
   "cell_type": "code",
   "execution_count": null,
   "id": "0f1c2328",
   "metadata": {},
   "outputs": [
    {
     "data": {
      "text/plain": [
       "5"
      ]
     },
     "execution_count": 23,
     "metadata": {},
     "output_type": "execute_result"
    }
   ],
   "source": [
    "def remove_element(nums,val):\n",
    "    l = 0\n",
    "\n",
    "    for i in range(len(nums)):\n",
    "        if nums[i] != val:\n",
    "            nums[l] = nums[i]\n",
    "            l+=1\n",
    "    return l\n",
    "\n",
    "nums = [0,1,2,2,3,0,4,2]\n",
    "val = 2\n",
    "remove_element(nums,val)"
   ]
  },
  {
   "cell_type": "markdown",
   "id": "51cccc27",
   "metadata": {},
   "source": [
    "136. single number\n",
    "Given a non-empty array of integers nums, every element appears twice except for one. Find that single one.\n",
    "You must implement a solution with a linear runtime complexity and use only constant extra space. \n",
    "\n",
    "Example 1:\n",
    "Input: nums = [2,2,1]\n",
    "Output: 1\n",
    "\n",
    "Example 2:\n",
    "Input: nums = [4,1,2,1,2]\n",
    "Output: 4\n",
    "\n",
    "Example 3:\n",
    "Input: nums = [1]\n",
    "Output: 1"
   ]
  },
  {
   "cell_type": "code",
   "execution_count": 39,
   "id": "30724321",
   "metadata": {},
   "outputs": [
    {
     "data": {
      "text/plain": [
       "4"
      ]
     },
     "execution_count": 39,
     "metadata": {},
     "output_type": "execute_result"
    }
   ],
   "source": [
    "def single_element(nums):\n",
    "    d = {}\n",
    "    for keys in nums:\n",
    "        d[keys] = nums.count(keys)\n",
    "        if d[keys] < 2:\n",
    "            return keys\n",
    "\n",
    "nums = [4,1,2,1,2]\n",
    "single_element(nums)"
   ]
  },
  {
   "cell_type": "markdown",
   "id": "c0342ffc",
   "metadata": {},
   "source": [
    "260. single number 3 (Medium)\n",
    "Given an integer array nums, in which exactly two elements appear only once and all the other elements appear exactly twice. Find the two elements that appear only once. You can return the answer in any order.\n",
    "\n",
    "You must write an algorithm that runs in linear runtime complexity and uses only constant extra space.\n",
    "\n",
    " Example 1:\n",
    "Input: nums = [1,2,1,3,2,5]\n",
    "Output: [3,5]\n",
    "Explanation:  [5, 3] is also a valid answer.\n",
    "\n",
    "Example 2:\n",
    "Input: nums = [-1,0]\n",
    "Output: [-1,0]\n",
    "\n",
    "Example 3:\n",
    "Input: nums = [0,1]\n",
    "Output: [1,0]"
   ]
  },
  {
   "cell_type": "code",
   "execution_count": null,
   "id": "bf06df9c",
   "metadata": {},
   "outputs": [
    {
     "data": {
      "text/plain": [
       "[5, 9]"
      ]
     },
     "execution_count": 32,
     "metadata": {},
     "output_type": "execute_result"
    }
   ],
   "source": [
    "def single_number3(nums):\n",
    "    d = {}\n",
    "    lst = []\n",
    "    for val in nums:\n",
    "        d[val] = nums.count(val)\n",
    "        if d[val] < 2:\n",
    "            lst .append(val)\n",
    "    return lst\n",
    "\n",
    "nums = [0,1,0,1,5,7,7,9]\n",
    "single_number3(nums)"
   ]
  },
  {
   "cell_type": "markdown",
   "id": "f84b781a",
   "metadata": {},
   "source": [
    "137. single number2 (Medium) Given an integer array nums where every element appears three times except for one, which appears exactly once. Find the single element and return it.\n",
    "\n",
    "You must implement a solution with a linear runtime complexity and use only constant extra space.\n",
    "\n",
    "Example 1:\n",
    "Input: nums = [2,2,3,2]\n",
    "Output: 3\n",
    "\n",
    "Example 2:\n",
    "Input: nums = [0,1,0,1,0,1,99]\n",
    "Output: 99"
   ]
  },
  {
   "cell_type": "code",
   "execution_count": 34,
   "id": "e6f96982",
   "metadata": {},
   "outputs": [
    {
     "data": {
      "text/plain": [
       "7"
      ]
     },
     "execution_count": 34,
     "metadata": {},
     "output_type": "execute_result"
    }
   ],
   "source": [
    "def single_number2(nums):\n",
    "    d = {}\n",
    "    for keys in nums:\n",
    "        d[keys] = nums.count(keys)\n",
    "        if d[keys] < 2:\n",
    "            return keys\n",
    "\n",
    "nums = [3,4,3,7,3,4,4]\n",
    "single_number2(nums)"
   ]
  },
  {
   "cell_type": "code",
   "execution_count": 18,
   "id": "ca1ee0c8",
   "metadata": {},
   "outputs": [
    {
     "name": "stdout",
     "output_type": "stream",
     "text": [
      "8\n"
     ]
    }
   ],
   "source": [
    "nums = [0,1,5,2,7,4,6]\n",
    "\n",
    "max_ele = nums[0]\n",
    "\n",
    "for i in range(len(nums)):\n",
    "    if nums[i] > max_ele:\n",
    "        max_ele = nums[i]\n",
    "print(max_ele+1)\n"
   ]
  },
  {
   "cell_type": "markdown",
   "id": "aaa197c3",
   "metadata": {},
   "source": [
    "217. contains Duplicate, \n",
    "Given an integer array nums, return true if any value appears at least twice in the array, and return false if every element is distinct.\n",
    "\n",
    "Example 1:\n",
    "Input: nums = [1,2,3,1]\n",
    "Output: true\n",
    "\n",
    "Explanation:\n",
    "The element 1 occurs at the indices 0 and 3.\n",
    "\n",
    "Example 2:\n",
    "Input: nums = [1,2,3,4]\n",
    "Output: false\n",
    "\n",
    "Explanation:\n",
    "All elements are distinct.\n",
    "\n",
    "Example 3:\n",
    "Input: nums = [1,1,1,3,3,4,3,2,4,2]\n",
    "Output: true"
   ]
  },
  {
   "cell_type": "code",
   "execution_count": null,
   "id": "cecf36cd",
   "metadata": {},
   "outputs": [
    {
     "data": {
      "text/plain": [
       "True"
      ]
     },
     "execution_count": 28,
     "metadata": {},
     "output_type": "execute_result"
    }
   ],
   "source": [
    "def Contains_duplicate(nums):\n",
    "    empty_set = set() #1,2,3,4\n",
    "    for i in nums: #1,2,3,4,1\n",
    "        if i in empty_set: # 1,2,3,4 in () ---> F,F,F,F,T\n",
    "            return True # T\n",
    "        empty_set.add(i) # 1,2,3,4 add into set \n",
    "    return False\n",
    "\n",
    "nums = [1,2,3,4,1]\n",
    "Contains_duplicate(nums)"
   ]
  },
  {
   "cell_type": "markdown",
   "id": "159052c9",
   "metadata": {},
   "source": [
    "66. Plus One You are given a large integer represented as an integer array digits, where each digits[i] is the ith digit of the integer. The digits are ordered from most significant to least significant in left-to-right order. The large integer does not contain any leading 0's.\n",
    "\n",
    "Increment the large integer by one and return the resulting array of digits.\n",
    "\n",
    " \n",
    "\n",
    "Example 1:\n",
    "Input: digits = [1,2,3]\n",
    "Output: [1,2,4]\n",
    "Explanation: The array represents the integer 123.\n",
    "Incrementing by one gives 123 + 1 = 124.\n",
    "Thus, the result should be [1,2,4].\n",
    "\n",
    "Example 2:\n",
    "Input: digits = [4,3,2,1]\n",
    "Output: [4,3,2,2]\n",
    "Explanation: The array represents the integer 4321.\n",
    "Incrementing by one gives 4321 + 1 = 4322.\n",
    "Thus, the result should be [4,3,2,2].\n",
    "\n",
    "Example 3:\n",
    "Input: digits = [9]\n",
    "Output: [1,0]\n",
    "Explanation: The array represents the integer 9.\n",
    "Incrementing by one gives 9 + 1 = 10.\n",
    "Thus, the result should be [1,0]."
   ]
  },
  {
   "cell_type": "code",
   "execution_count": null,
   "id": "8f16c2ed",
   "metadata": {},
   "outputs": [
    {
     "data": {
      "text/plain": [
       "[4, 3, 2, 2]"
      ]
     },
     "execution_count": 58,
     "metadata": {},
     "output_type": "execute_result"
    }
   ],
   "source": [
    "def PlusOne(digits):\n",
    "    empty_str = ''\n",
    "    empty_lst = []\n",
    "\n",
    "    for i in digits:\n",
    "        empty_str+=str(i)\n",
    "\n",
    "    empty_str = int(empty_str)+1\n",
    "    empty_str = str(empty_str)\n",
    "\n",
    "    for value in empty_str:\n",
    "        empty_lst.append(int(value))\n",
    "        \n",
    "    return empty_lst\n",
    "\n",
    "digits = [4,3,2,1]\n",
    "PlusOne(digits)"
   ]
  },
  {
   "cell_type": "markdown",
   "id": "37861369",
   "metadata": {},
   "source": [
    "121. Best Time to Buy and Sell stock, You are given an array prices where prices[i] is the price of a given stock on the ith day.\n",
    "\n",
    "You want to maximize your profit by choosing a single day to buy one stock and choosing a different day in the future to sell that stock.\n",
    "\n",
    "Return the maximum profit you can achieve from this transaction. If you cannot achieve any profit, return 0.\n",
    "\n",
    " \n",
    "\n",
    "Example 1:\n",
    "\n",
    "Input: prices = [7,1,5,3,6,4]\n",
    "Output: 5\n",
    "Explanation: Buy on day 2 (price = 1) and sell on day 5 (price = 6), profit = 6-1 = 5.\n",
    "Note that buying on day 2 and selling on day 1 is not allowed because you must buy before you sell.\n",
    "Example 2:\n",
    "\n",
    "Input: prices = [7,6,4,3,1]\n",
    "Output: 0\n",
    "Explanation: In this case, no transactions are done and the max profit = 0."
   ]
  },
  {
   "cell_type": "code",
   "execution_count": 10,
   "id": "37cb5d35",
   "metadata": {},
   "outputs": [
    {
     "data": {
      "text/plain": [
       "5"
      ]
     },
     "execution_count": 10,
     "metadata": {},
     "output_type": "execute_result"
    }
   ],
   "source": [
    "def BestTimeToBuyStock(prices):\n",
    "    buy=0\n",
    "    sell=1\n",
    "    max_profit=0\n",
    "    while sell<len(prices):\n",
    "            if prices[sell]>prices[buy]:\n",
    "                profit=prices[sell]-prices[buy]\n",
    "                if profit>max_profit:\n",
    "                    max_profit=profit\n",
    "\n",
    "            else:\n",
    "                buy=sell\n",
    "            sell+=1\n",
    "\n",
    "    return max_profit\n",
    "\n",
    "BestTimeToBuyStock(prices=[7,1,5,3,6,4])"
   ]
  },
  {
   "cell_type": "markdown",
   "id": "be9cbec0",
   "metadata": {},
   "source": [
    "283. Moves Zeroes, Given an integer array nums, move all 0's to the end of it while maintaining the relative order of the non-zero elements.\n",
    "\n",
    "Note that you must do this in-place without making a copy of the array.\n",
    "\n",
    "Example 1:\n",
    "Input: nums = [0,1,0,3,12]\n",
    "Output: [1,3,12,0,0]\n",
    "Example 2:\n",
    "\n",
    "Input: nums = [0]\n",
    "Output: [0]"
   ]
  },
  {
   "cell_type": "code",
   "execution_count": 7,
   "id": "d9eea979",
   "metadata": {},
   "outputs": [
    {
     "name": "stdout",
     "output_type": "stream",
     "text": [
      "[29, 7, 9, 8, 0, 0]\n"
     ]
    }
   ],
   "source": [
    "nums = [29,0,7,9,0,8]\n",
    "\n",
    "nonzeroindex = 0\n",
    "\n",
    "for i in range(len(nums)):\n",
    "    if nums[i] != 0:\n",
    "        nums[nonzeroindex] = nums[i]\n",
    "        nonzeroindex+=1\n",
    "for j in range(nonzeroindex,len(nums)):\n",
    "    nums[j] = 0\n",
    "\n",
    "print(nums)\n"
   ]
  },
  {
   "cell_type": "markdown",
   "id": "1db607c2",
   "metadata": {},
   "source": [
    "268. Missing Number, Given an array nums containing n distinct numbers in the range [0, n], return the only number in the range that is missing from the array.\n",
    "\n",
    "Example 1:\n",
    "Input: nums = [3,0,1]\n",
    "Output: 2\n",
    "\n",
    "Explanation:\n",
    "n = 3 since there are 3 numbers, so all numbers are in the range [0,3]. 2 is the missing number in the range since it does not appear in nums.\n",
    "\n",
    "Example 2:\n",
    "Input: nums = [0,1]\n",
    "Output: 2\n",
    "\n",
    "Explanation:\n",
    "n = 2 since there are 2 numbers, so all numbers are in the range [0,2]. 2 is the missing number in the range since it does not appear in nums.\n",
    "\n",
    "Example 3:\n",
    "Input: nums = [9,6,4,2,3,5,7,0,1]\n",
    "Output: 8\n",
    "\n",
    "Explanation:\n",
    "n = 9 since there are 9 numbers, so all numbers are in the range [0,9]. 8 is the missing number in the range since it does not appear in nums.\n",
    "\n",
    " "
   ]
  },
  {
   "cell_type": "code",
   "execution_count": 14,
   "id": "c50711c3",
   "metadata": {},
   "outputs": [
    {
     "data": {
      "text/plain": [
       "4"
      ]
     },
     "execution_count": 14,
     "metadata": {},
     "output_type": "execute_result"
    }
   ],
   "source": [
    "def missing_num(nums):\n",
    "    expected_sum = len(nums)*(len(nums)+1)//2\n",
    "    actual_sum = 0\n",
    "    for i in range(len(nums)):\n",
    "        actual_sum = nums[i] + actual_sum\n",
    "    return expected_sum - actual_sum\n",
    "missing_num(nums = [0,1,3,2,5])\n"
   ]
  },
  {
   "cell_type": "markdown",
   "id": "edccfad5",
   "metadata": {},
   "source": [
    "1051. Height checker, A school is trying to take an annual photo of all the students. The students are asked to stand in a single file line in non-decreasing order by height. Let this ordering be represented by the integer array expected where expected[i] is the expected height of the ith student in line.\n",
    "\n",
    "You are given an integer array heights representing the current order that the students are standing in. Each heights[i] is the height of the ith student in line (0-indexed).\n",
    "\n",
    "Return the number of indices where heights[i] != expected[i].\n",
    "\n",
    "Example 1:\n",
    "Input: heights = [1,1,4,2,1,3]\n",
    "Output: 3\n",
    "Explanation: \n",
    "heights:  [1,1,4,2,1,3]\n",
    "expected: [1,1,1,2,3,4]\n",
    "Indices 2, 4, and 5 do not match.\n",
    "\n",
    "Example 2:\n",
    "Input: heights = [5,1,2,3,4]\n",
    "Output: 5\n",
    "Explanation:\n",
    "heights:  [5,1,2,3,4]\n",
    "expected: [1,2,3,4,5]\n",
    "All indices do not match.\n",
    "\n",
    "Example 3:\n",
    "Input: heights = [1,2,3,4,5]\n",
    "Output: 0\n",
    "Explanation:\n",
    "heights:  [1,2,3,4,5]\n",
    "expected: [1,2,3,4,5]\n",
    "All indices match."
   ]
  },
  {
   "cell_type": "code",
   "execution_count": null,
   "id": "ff2506ce",
   "metadata": {},
   "outputs": [
    {
     "data": {
      "text/plain": [
       "4"
      ]
     },
     "execution_count": 33,
     "metadata": {},
     "output_type": "execute_result"
    }
   ],
   "source": [
    "def height_checker(nums):\n",
    "\n",
    "    nums2 = sorted(nums)\n",
    "\n",
    "    count = 0\n",
    "\n",
    "    for i in range(len(nums)):\n",
    "        if nums[i] != nums2[i]:\n",
    "            count+=1\n",
    "    return count\n",
    "\n",
    "height_checker(nums = [1,2,6,3,4,5])\n",
    "\n"
   ]
  },
  {
   "cell_type": "markdown",
   "id": "885f8b1c",
   "metadata": {},
   "source": [
    "414. Third Maximum Number, Given an integer array nums, return the third distinct maximum number in this array. If the third maximum does not exist, return the maximum number.\n",
    "\n",
    "Example 1:\n",
    "Input: nums = [3,2,1]\n",
    "Output: 1\n",
    "\n",
    "Explanation:\n",
    "The first distinct maximum is 3.\n",
    "The second distinct maximum is 2.\n",
    "The third distinct maximum is 1.\n",
    "\n",
    "Example 2:\n",
    "Input: nums = [1,2]\n",
    "Output: 2\n",
    "\n",
    "Explanation:\n",
    "The first distinct maximum is 2.\n",
    "The second distinct maximum is 1.\n",
    "The third distinct maximum does not exist, so the maximum (2) is returned instead.\n",
    "\n",
    "Example 3:\n",
    "Input: nums = [2,2,3,1]\n",
    "Output: 1\n",
    "\n",
    "Explanation:\n",
    "The first distinct maximum is 3.\n",
    "The second distinct maximum is 2 (both 2's are counted together since they have the same value).\n",
    "The third distinct maximum is 1."
   ]
  },
  {
   "cell_type": "code",
   "execution_count": null,
   "id": "84c39265",
   "metadata": {},
   "outputs": [
    {
     "name": "stdout",
     "output_type": "stream",
     "text": [
      "2\n"
     ]
    }
   ],
   "source": [
    "nums = [1,2]\n",
    "nums1 = sorted(set(nums),reverse=True)\n",
    "print(nums1[2] if len(nums1) >=3 else nums1[0])\n"
   ]
  },
  {
   "cell_type": "markdown",
   "id": "f09578d8",
   "metadata": {},
   "source": [
    "14. Longest common prefix, Write a function to find the longest common prefix string amongst an array of strings.\n",
    "\n",
    "If there is no common prefix, return an empty string \"\".\n",
    "\n",
    "Example 1:\n",
    "Input: strs = [\"flower\",\"flow\",\"flight\"]\n",
    "Output: \"fl\"\n",
    "\n",
    "Example 2:\n",
    "Input: strs = [\"dog\",\"racecar\",\"car\"]\n",
    "Output: \"\"\n",
    "Explanation: There is no common prefix among the input strings."
   ]
  },
  {
   "cell_type": "code",
   "execution_count": 27,
   "id": "16b15fb3",
   "metadata": {},
   "outputs": [
    {
     "data": {
      "text/plain": [
       "'abf'"
      ]
     },
     "execution_count": 27,
     "metadata": {},
     "output_type": "execute_result"
    }
   ],
   "source": [
    "def LongestCommPrefix(strs):\n",
    "    ans = \"\"\n",
    "    strs = sorted(strs)\n",
    "    first = strs[0]\n",
    "    last = strs[-1]\n",
    "    for i in range(min(len(first),len(last))):\n",
    "        if (first[i]!=last[i]):\n",
    "            return ans\n",
    "        ans = ans + first[i]\n",
    "    return ans\n",
    "LongestCommPrefix(strs = ['abf','abf','abf','abf'])"
   ]
  },
  {
   "cell_type": "markdown",
   "id": "74f8168f",
   "metadata": {},
   "source": [
    "1002. Find common characters, Given a string array words, return an array of all characters that show up in all strings within the words (including duplicates). You may return the answer in any order.\n",
    "\n",
    "Example 1:\n",
    "Input: words = [\"bella\",\"label\",\"roller\"]\n",
    "Output: [\"e\",\"l\",\"l\"]\n",
    "\n",
    "Example 2:\n",
    "Input: words = [\"cool\",\"lock\",\"cook\"]\n",
    "Output: [\"c\",\"o\"]\n",
    " "
   ]
  },
  {
   "cell_type": "code",
   "execution_count": 58,
   "id": "774fda8a",
   "metadata": {},
   "outputs": [
    {
     "data": {
      "text/plain": [
       "['e', 'l', 'l']"
      ]
     },
     "execution_count": 58,
     "metadata": {},
     "output_type": "execute_result"
    }
   ],
   "source": [
    "def findcommonchar(words): \n",
    "    result = []\n",
    "    for ch in set(words[0]):\n",
    "        count = []\n",
    "        for word in words:\n",
    "            count.append(word.count(ch))\n",
    "        for i in range(min(count)):\n",
    "            result.append(ch)\n",
    "    return result\n",
    "findcommonchar(words = [\"bella\",\"label\",\"roller\"])"
   ]
  },
  {
   "cell_type": "markdown",
   "id": "a48a9130",
   "metadata": {},
   "source": [
    "1207. Unique number of occurrences, Given an array of integers arr, return true if the number of occurrences of each value in the array is unique or false otherwise.\n",
    "\n",
    " \n",
    "\n",
    "Example 1:\n",
    "\n",
    "Input: arr = [1,2,2,1,1,3]\n",
    "Output: true\n",
    "Explanation: The value 1 has 3 occurrences, 2 has 2 and 3 has 1. No two values have the same number of occurrences.\n",
    "Example 2:\n",
    "\n",
    "Input: arr = [1,2]\n",
    "Output: false\n",
    "Example 3:\n",
    "\n",
    "Input: arr = [-3,0,1,-3,1,1,1,-3,10,0]\n",
    "Output: true"
   ]
  },
  {
   "cell_type": "code",
   "execution_count": 62,
   "id": "bcda75ef",
   "metadata": {},
   "outputs": [
    {
     "data": {
      "text/plain": [
       "True"
      ]
     },
     "execution_count": 62,
     "metadata": {},
     "output_type": "execute_result"
    }
   ],
   "source": [
    "def unique_num_occur(arr):\n",
    "    seen = set()\n",
    "    for num in set(arr):\n",
    "        cnt = arr.count(num)\n",
    "        if cnt in seen:\n",
    "            return False\n",
    "        else:\n",
    "            seen.add(cnt)\n",
    "    return True\n",
    "unique_num_occur(arr = [1,2,2,1,1,3])\n",
    "\n",
    "        "
   ]
  },
  {
   "cell_type": "markdown",
   "id": "a9bcdb2f",
   "metadata": {},
   "source": [
    "**3477.Fruits into baskets||** You are given two arrays of integers, fruits and baskets, each of length n, where fruits[i] represents the quantity of the ith type of fruit, and baskets[j] represents the capacity of the jth basket.       \n",
    "From left to right, place the fruits according to these rules:        \n",
    "Each fruit type must be placed in the leftmost available basket with a capacity greater than or equal to the quantity of that fruit type.\n",
    "Each basket can hold only one type of fruit.     \n",
    "If a fruit type cannot be placed in any basket, it remains unplaced.       \n",
    "Return the number of fruit types that remain unplaced after all possible allocations are made.\n",
    "\n",
    "Example 1:\n",
    "\n",
    "Input: fruits = [4,2,5], baskets = [3,5,4]\n",
    "Output: 1\n",
    "\n",
    "Explanation:\n",
    "fruits[0] = 4 is placed in baskets[1] = 5.\n",
    "fruits[1] = 2 is placed in baskets[0] = 3.\n",
    "fruits[2] = 5 cannot be placed in baskets[2] = 4.\n",
    "Since one fruit type remains unplaced, we return 1.\n",
    "\n",
    "Example 2:\n",
    "Input: fruits = [3,6,1], baskets = [6,4,7]\n",
    "Output: 0\n",
    "\n",
    "Explanation:\n",
    "fruits[0] = 3 is placed in baskets[0] = 6.\n",
    "fruits[1] = 6 cannot be placed in baskets[1] = 4 (insufficient capacity) but can be placed in the next available basket, baskets[2] = 7.\n",
    "fruits[2] = 1 is placed in baskets[1] = 4.\n",
    "Since all fruits are successfully placed, we return 0."
   ]
  },
  {
   "cell_type": "code",
   "execution_count": null,
   "id": "1ea9d0c2",
   "metadata": {},
   "outputs": [
    {
     "data": {
      "text/plain": [
       "1"
      ]
     },
     "execution_count": 12,
     "metadata": {},
     "output_type": "execute_result"
    }
   ],
   "source": [
    "def fruits_into_baskets(fruits,baskets):\n",
    "    n = len(fruits)\n",
    "    result = 0\n",
    "    for i in range(n):\n",
    "        for j in range(n):\n",
    "            if fruits[i] <= baskets[j]:\n",
    "                baskets[j] = -1 # used basket\n",
    "                result += 1\n",
    "                break\n",
    "    return n-result\n",
    "fruits_into_baskets(fruits=[4,2,5],baskets=[3,5,4]) "
   ]
  },
  {
   "cell_type": "code",
   "execution_count": 13,
   "id": "2de4f176",
   "metadata": {},
   "outputs": [
    {
     "data": {
      "text/plain": [
       "-1"
      ]
     },
     "execution_count": 13,
     "metadata": {},
     "output_type": "execute_result"
    }
   ],
   "source": [
    "\n",
    "def min_ele(nums1,nums2):\n",
    "    found = -1\n",
    "    min_ele = 0\n",
    "    for i in range(len(nums1)):\n",
    "        if nums1[min_ele] > nums1[i]:\n",
    "            if nums1[min_ele] in nums2:\n",
    "                found = nums1[min_ele]\n",
    "                break\n",
    "        min_ele += 1\n",
    "    return found\n",
    "\n",
    "\n",
    "\n",
    "\n",
    "\n",
    "nums1 = [1,2,3] \n",
    "nums2 = [2,4]\n",
    "min_ele(nums1,nums2)\n"
   ]
  },
  {
   "cell_type": "markdown",
   "id": "77be7649",
   "metadata": {},
   "source": [
    "**2529. Max Count of positive integer and Negative Integer** Given an array nums sorted in non-decreasing order, return the maximum between the number of positive integers and the number of negative integers.     \n",
    "\n",
    "In other words, if the number of positive integers in nums is pos and the number of negative integers is neg, then return the maximum of pos and neg.\n",
    "Note that 0 is neither positive nor negative.     \n",
    "\n",
    "Example 1:\n",
    "Input: nums = [-2,-1,-1,1,2,3]\n",
    "Output: 3\n",
    "Explanation: There are 3 positive integers and 3 negative integers. The maximum count among them is 3.\n",
    "\n",
    "Example 2:\n",
    "Input: nums = [-3,-2,-1,0,0,1,2]\n",
    "Output: 3\n",
    "Explanation: There are 2 positive integers and 3 negative integers. The maximum count among them is 3.\n",
    "\n",
    "Example 3:\n",
    "Input: nums = [5,20,66,1314]\n",
    "Output: 4\n",
    "Explanation: There are 4 positive integers and 0 negative integers. The maximum count among them is 4.\n",
    " "
   ]
  },
  {
   "cell_type": "code",
   "execution_count": 24,
   "id": "9f394f86",
   "metadata": {},
   "outputs": [
    {
     "data": {
      "text/plain": [
       "4"
      ]
     },
     "execution_count": 24,
     "metadata": {},
     "output_type": "execute_result"
    }
   ],
   "source": [
    "def max_count(nums):\n",
    "    pos = 0\n",
    "    neg = 0\n",
    "    for i in nums:\n",
    "        if i != 0:\n",
    "            if i > 0:\n",
    "                pos += 1\n",
    "            else:\n",
    "                neg += 1\n",
    "    if pos > neg:\n",
    "        return pos\n",
    "    else:\n",
    "        return neg\n",
    "max_count(nums=[-1,-2,-3,-4,80,7,0,8])"
   ]
  },
  {
   "cell_type": "markdown",
   "id": "96fda804",
   "metadata": {},
   "source": [
    "**1929. Concatenation of Array** Given an integer array nums of length n, you want to create an array ans of length 2n where ans[i] == nums[i] and ans[i + n] == nums[i] for 0 <= i < n (0-indexed).\n",
    "\n",
    "Specifically, ans is the concatenation of two nums arrays.\n",
    "\n",
    "Return the array ans.\n",
    "\n",
    "Example 1:\n",
    "Input: nums = [1,2,1]\n",
    "Output: [1,2,1,1,2,1]\n",
    "Explanation: The array ans is formed as follows:\n",
    "- ans = [nums[0],nums[1],nums[2],nums[0],nums[1],nums[2]]\n",
    "- ans = [1,2,1,1,2,1]\n",
    "\n",
    "Example 2:\n",
    "Input: nums = [1,3,2,1]\n",
    "Output: [1,3,2,1,1,3,2,1]\n",
    "Explanation: The array ans is formed as follows:\n",
    "- ans = [nums[0],nums[1],nums[2],nums[3],nums[0],nums[1],nums[2],nums[3]]\n",
    "- ans = [1,3,2,1,1,3,2,1]"
   ]
  },
  {
   "cell_type": "code",
   "execution_count": null,
   "id": "1c3eaa36",
   "metadata": {},
   "outputs": [
    {
     "data": {
      "text/plain": [
       "[1, 2, 1, 1, 2, 1]"
      ]
     },
     "execution_count": 12,
     "metadata": {},
     "output_type": "execute_result"
    }
   ],
   "source": [
    "ans = []\n",
    "def add_two_array(nums):\n",
    "    for i in range(len(nums)):\n",
    "        ans.append(nums[i])\n",
    "    return nums+ans\n",
    "\n",
    "add_two_array(nums = [1,2,1])\n"
   ]
  },
  {
   "cell_type": "code",
   "execution_count": 13,
   "id": "824e03f0",
   "metadata": {},
   "outputs": [
    {
     "data": {
      "text/plain": [
       "[6, 5, 4, 3, 2, 1, 6, 5, 4, 3, 2, 1]"
      ]
     },
     "execution_count": 13,
     "metadata": {},
     "output_type": "execute_result"
    }
   ],
   "source": [
    "def add_two_array(nums):\n",
    "    ans = nums.copy()\n",
    "    return nums+ans\n",
    "add_two_array(nums=[6,5,4,3,2,1])"
   ]
  },
  {
   "cell_type": "markdown",
   "id": "ce4f7955",
   "metadata": {},
   "source": [
    "**1512. Number of good number**   \n",
    "Given an array of integers nums, return the number of good pairs.\n",
    "\n",
    "A pair (i, j) is called good if nums[i] == nums[j] and i < j.\n",
    "\n",
    "Example 1:\n",
    "Input: nums = [1,2,3,1,1,3]\n",
    "Output: 4\n",
    "Explanation: There are 4 good pairs (0,3), (0,4), (3,4), (2,5) 0-indexed.\n",
    "\n",
    "Example 2:\n",
    "Input: nums = [1,1,1,1]\n",
    "Output: 6\n",
    "Explanation: Each pair in the array are good.\n",
    "\n",
    "Example 3:\n",
    "Input: nums = [1,2,3]\n",
    "Output: 0\n",
    " "
   ]
  },
  {
   "cell_type": "code",
   "execution_count": 20,
   "id": "7afdd763",
   "metadata": {},
   "outputs": [
    {
     "data": {
      "text/plain": [
       "3"
      ]
     },
     "execution_count": 20,
     "metadata": {},
     "output_type": "execute_result"
    }
   ],
   "source": [
    "def good_number(nums):\n",
    "    count = 0\n",
    "    for i in range(len(nums)):\n",
    "        for j in range(len(nums)):\n",
    "            if nums[i] == nums[j] and i < j:\n",
    "                count += 1\n",
    "    return count\n",
    "\n",
    "good_number(nums=[1,2,3,2,3,1,8])"
   ]
  },
  {
   "cell_type": "markdown",
   "id": "2587b810",
   "metadata": {},
   "source": [
    "**optimize code** below code is optimize code becases we reduce the loop reputation and comparison (i+1)"
   ]
  },
  {
   "cell_type": "code",
   "execution_count": 21,
   "id": "85fcfe4e",
   "metadata": {},
   "outputs": [
    {
     "data": {
      "text/plain": [
       "3"
      ]
     },
     "execution_count": 21,
     "metadata": {},
     "output_type": "execute_result"
    }
   ],
   "source": [
    "def good_number(nums):\n",
    "    count = 0\n",
    "    for i in range(len(nums)):\n",
    "        for j in range(i + 1, len(nums)):\n",
    "            if nums[i] == nums[j]:\n",
    "                count += 1\n",
    "        \n",
    "    return count\n",
    "good_number(nums=[1,2,3,3,2,1])"
   ]
  },
  {
   "cell_type": "markdown",
   "id": "2d253829",
   "metadata": {},
   "source": [
    "**2942. Find Words Containing Char**    \n",
    "You are given a 0-indexed array of strings words and a character x.\n",
    "\n",
    "Return an array of indices representing the words that contain the character x.\n",
    "\n",
    "Note that the returned array may be in any order.\n",
    "\n",
    "Example 1:\n",
    "Input: words = [\"leet\",\"code\"], x = \"e\"\n",
    "Output: [0,1]\n",
    "Explanation: \"e\" occurs in both words: \"leet\", and \"code\". Hence, we return indices 0 and 1.\n",
    "\n",
    "Example 2:\n",
    "Input: words = [\"abc\",\"bcd\",\"aaaa\",\"cbc\"], x = \"a\"\n",
    "Output: [0,2]\n",
    "Explanation: \"a\" occurs in \"abc\", and \"aaaa\". Hence, we return indices 0 and 2.\n",
    "\n",
    "Example 3:\n",
    "Input: words = [\"abc\",\"bcd\",\"aaaa\",\"cbc\"], x = \"z\"\n",
    "Output: []\n",
    "Explanation: \"z\" does not occur in any of the words. Hence, we return an empty array."
   ]
  },
  {
   "cell_type": "code",
   "execution_count": 12,
   "id": "31d43709",
   "metadata": {},
   "outputs": [
    {
     "name": "stdout",
     "output_type": "stream",
     "text": [
      "[0, 1]\n"
     ]
    }
   ],
   "source": [
    "words = [\"leet\",\"code\",\"python\"]\n",
    "x = \"e\"\n",
    "index = []\n",
    "for w in range(len(words)):\n",
    "    for char in words[w]:\n",
    "        if x == char:\n",
    "            index.append(w)\n",
    "            break\n",
    "print(index)"
   ]
  },
  {
   "cell_type": "code",
   "execution_count": null,
   "id": "4ce70c33",
   "metadata": {},
   "outputs": [
    {
     "data": {
      "text/plain": [
       "[0, 2]"
      ]
     },
     "execution_count": 19,
     "metadata": {},
     "output_type": "execute_result"
    }
   ],
   "source": [
    "def word_cont_char(words,x):\n",
    "    i = []\n",
    "    for index in range(len(words)):\n",
    "        if x in words[index]:\n",
    "            i.append(index)\n",
    "    return i\n",
    "\n",
    "word_cont_char(words=[\"abc\",\"bcd\",\"aaaa\",\"cbc\"], x = \"a\")"
   ]
  },
  {
   "cell_type": "markdown",
   "id": "c111ce3e",
   "metadata": {},
   "source": [
    "1389. create target array in the given order              \n",
    "Given two arrays of integers nums and index. Your task is to create target array under the following rules:              \n",
    "\n",
    "Initially target array is empty.\n",
    "From left to right read nums[i] and index[i], insert at index index[i] the value nums[i] in target array.\n",
    "Repeat the previous step until there are no elements to read in nums and index.\n",
    "Return the target array.\n",
    "\n",
    "It is guaranteed that the insertion operations will be valid.\n",
    "\n",
    "Example 1:\n",
    "Input: nums = [0,1,2,3,4], index = [0,1,2,2,1]      \n",
    "Output: [0,4,1,3,2]      \n",
    "Explanation:\n",
    "nums         index       target     \n",
    "0            0        [0]\n",
    "1            1        [0,1]\n",
    "2            2        [0,1,2]\n",
    "3            2        [0,1,3,2]\n",
    "4            1        [0,4,1,3,2]\n",
    "\n",
    "Example 2:     \n",
    "Input: nums = [1,2,3,4,0], index = [0,1,2,3,0]    \n",
    "Output: [0,1,2,3,4]             \n",
    "Explanation:       \n",
    "nums       index     target      \n",
    "1            0        [1]\n",
    "2            1        [1,2]\n",
    "3            2        [1,2,3]\n",
    "4            3        [1,2,3,4]\n",
    "0            0        [0,1,2,3,4]\n",
    "\n",
    "Example 3:      \n",
    "Input: nums = [1], index = [0]      \n",
    "Output: [1]\n",
    " "
   ]
  },
  {
   "cell_type": "code",
   "execution_count": 9,
   "id": "834ab5d5",
   "metadata": {},
   "outputs": [
    {
     "name": "stdout",
     "output_type": "stream",
     "text": [
      "[0, 1, 2, 3, 4]\n"
     ]
    }
   ],
   "source": [
    "nums = [1,2,3,4,0]\n",
    "index = [0,1,2,3,0]\n",
    "target = []\n",
    "\n",
    "for val,i in zip(nums,index):\n",
    "    target.insert(i,val)\n",
    "print(target)\n",
    "\n",
    "    "
   ]
  },
  {
   "cell_type": "markdown",
   "id": "5c9642bf",
   "metadata": {},
   "source": [
    "2037. Minimum Number of moves to seat everyone: There are n availabe seats and n students standing in a room. You are given an array seats of length n, where seats[i] is the position of the ith seat. You are also given the array students of length n, where students[j] is the position of the jth student.      \n",
    "\n",
    "You may perform the following move any number of times:          \n",
    "\n",
    "Increase or decrease the position of the ith student by 1 (i.e., moving the ith student from position x to x + 1 or x - 1)          \n",
    "Return the minimum number of moves required to move each student to a seat such that no two students are in the same seat.       \n",
    "\n",
    "Note that there may be multiple seats or students in the same position at the beginning.                      \n",
    "\n",
    "Example 1:\n",
    "Input: seats = [3,1,5], students = [2,7,4]                 \n",
    "Output: 4                   \n",
    "Explanation: The students are moved as follows:             \n",
    "- The first student is moved from position 2 to position 1 using 1 move.             \n",
    "- The second student is moved from position 7 to position 5 using 2 moves.           \n",
    "- The third student is moved from position 4 to position 3 using 1 move.             \n",
    "In total, 1 + 2 + 1 = 4 moves were used."
   ]
  },
  {
   "cell_type": "code",
   "execution_count": 25,
   "id": "dfb4e24c",
   "metadata": {},
   "outputs": [
    {
     "name": "stdout",
     "output_type": "stream",
     "text": [
      "19\n"
     ]
    }
   ],
   "source": [
    "seats = [12,14,19,19,12]\n",
    "students = [19,2,17,20,7]\n",
    "moves = 0\n",
    "\n",
    "for s,std in zip(sorted(seats),sorted(students)):\n",
    "    moves += abs(s-std)\n",
    "print(moves)"
   ]
  },
  {
   "cell_type": "code",
   "execution_count": 24,
   "id": "786eb2d2",
   "metadata": {},
   "outputs": [
    {
     "name": "stdout",
     "output_type": "stream",
     "text": [
      "19\n"
     ]
    }
   ],
   "source": [
    "seats = [12,14,19,19,12]\n",
    "students = [19,2,17,20,7]\n",
    "moves = 0\n",
    "\n",
    "seats.sort()\n",
    "students.sort()\n",
    "\n",
    "for i in range(len(seats)):\n",
    "    moves += abs(students[i] - seats[i])\n",
    "print(moves)"
   ]
  },
  {
   "cell_type": "markdown",
   "id": "5f7f4428",
   "metadata": {},
   "source": [
    "2011. Final Value of variable After Performing Operations.\n",
    "There is a programming language with only four operations and one variable X:\n",
    "\n",
    "++X and X++ increments the value of the variable X by 1.                \n",
    "--X and X-- decrements the value of the variable X by 1.                \n",
    "Initially, the value of X is 0.                    \n",
    "\n",
    "Given an array of strings operations containing a list of operations, return the final value of X after performing all the operations.\n",
    "\n",
    "Example 1:                             \n",
    "Input: operations = [\"--X\",\"X++\",\"X++\"]                 \n",
    "Output: 1                  \n",
    "Explanation: The operations are performed as follows:           \n",
    "Initially, X = 0.                      \n",
    "--X: X is decremented by 1, X =  0 - 1 = -1.                \n",
    "X++: X is incremented by 1, X = -1 + 1 =  0.             \n",
    "X++: X is incremented by 1, X =  0 + 1 =  1.               \n",
    "\n",
    "Example 2:                      \n",
    "Input: operations = [\"X++\",\"++X\",\"--X\",\"X--\"]                   \n",
    "Output: 0                  \n",
    "Explanation: The operations are performed as follows:             \n",
    "Initially, X = 0.                         \n",
    "X++: X is incremented by 1, X = 0 + 1 = 1.             \n",
    "++X: X is incremented by 1, X = 1 + 1 = 2.              \n",
    "--X: X is decremented by 1, X = 2 - 1 = 1.               \n",
    "X--: X is decremented by 1, X = 1 - 1 = 0.             "
   ]
  },
  {
   "cell_type": "code",
   "execution_count": 20,
   "id": "c4ca986f",
   "metadata": {},
   "outputs": [
    {
     "data": {
      "text/plain": [
       "1"
      ]
     },
     "execution_count": 20,
     "metadata": {},
     "output_type": "execute_result"
    }
   ],
   "source": [
    "def inc_dec(operations):\n",
    "    result = 0\n",
    "    for i in range(len(operations)):\n",
    "        if operations[i] in ['++X',\"X++\"]:\n",
    "            result +=1\n",
    "        elif operations[i] in ['--X','X--']:\n",
    "            result -=1\n",
    "    return result\n",
    "operations = [\"--X\",\"X++\",\"X++\"]\n",
    "inc_dec(operations)"
   ]
  },
  {
   "cell_type": "markdown",
   "id": "890916ac",
   "metadata": {},
   "source": [
    "3110. Score of a string, You are given a string s. The score of a string is defined as the sum of the absolute difference between the ASCII values of adjacent characters.\n",
    "\n",
    "Return the score of s.             \n",
    "Example 1:         \n",
    "Input: s = \"hello\"            \n",
    "Output: 13               \n",
    "\n",
    "Explanation:\n",
    "The ASCII values of the characters in s are: 'h' = 104, 'e' = 101, 'l' = 108, 'o' = 111. So, the score of s would be |104 - 101| + |101 - 108| + |108 - 108| + |108 - 111| = 3 + 7 + 0 + 3 = 13.             \n",
    "\n",
    "Example 2:            \n",
    "Input: s = \"zaz\"             \n",
    "Output: 50                   \n",
    "\n",
    "Explanation:\n",
    "The ASCII values of the characters in s are: 'z' = 122, 'a' = 97. So, the score of s would be |122 - 97| + |97 - 122| = 25 + 25 = 50."
   ]
  },
  {
   "cell_type": "code",
   "execution_count": 75,
   "id": "d170fb85",
   "metadata": {},
   "outputs": [
    {
     "data": {
      "text/plain": [
       "50"
      ]
     },
     "execution_count": 75,
     "metadata": {},
     "output_type": "execute_result"
    }
   ],
   "source": [
    "def Score_string(s):\n",
    "\n",
    "    result = 0\n",
    "    for i in range(len(s)-1):\n",
    "        result += abs(ord(s[i]) - ord(s[i+1]))\n",
    "    return result\n",
    "\n",
    "    # below code is not a optimized version\n",
    "    # ascii_val = []\n",
    "    # result = 0\n",
    "    # j = 0\n",
    "    # k = 1\n",
    "    # for i in range(len(s)):\n",
    "    #     ascii_val.append(ord(s[i]))\n",
    "    # while j < len(ascii_val) and k < len(ascii_val):\n",
    "    #     result += abs(ascii_val[j] - ascii_val[k])\n",
    "    #     j+=1\n",
    "    #     k+=1\n",
    "    # print(result)\n",
    "   \n",
    "s = 'zaz'\n",
    "Score_string(s)\n",
    "\n",
    "\n"
   ]
  },
  {
   "cell_type": "markdown",
   "id": "6a920fdc",
   "metadata": {},
   "source": [
    "3541. Find most frequent vowel and consonant, You are given a string s consisting of lowercase English letters ('a' to 'z').           \n",
    "\n",
    "Your task is to:                 \n",
    "\n",
    "Find the vowel (one of 'a', 'e', 'i', 'o', or 'u') with the maximum frequency.                       \n",
    "Find the consonant (all other letters excluding vowels) with the maximum frequency.                     \n",
    "Return the sum of the two frequencies.                 \n",
    "\n",
    "Note: If multiple vowels or consonants have the same maximum frequency, you may choose any one of them. If there are no vowels or no consonants in the string, consider their frequency as 0.                \n",
    "\n",
    "The frequency of a letter x is the number of times it occurs in the string.                       \n",
    " \n",
    "\n",
    "Example 1:          \n",
    "Input: s = \"successes\"            \n",
    "Output: 6           \n",
    "\n",
    "Explanation:\n",
    "The vowels are: 'u' (frequency 1), 'e' (frequency 2). The maximum frequency is 2.            \n",
    "The consonants are: 's' (frequency 4), 'c' (frequency 2). The maximum frequency is 4.         \n",
    "The output is 2 + 4 = 6.            \n",
    "Example 2:        \n",
    "Input: s = \"aeiaeia\"          \n",
    "\n",
    "Output: 3             \n",
    "Explanation:       \n",
    "The vowels are: 'a' (frequency 3), 'e' ( frequency 2), 'i' (frequency 2). The maximum frequency is 3.\n",
    "There are no consonants in s. Hence, maximum consonant frequency = 0.\n",
    "The output is 3 + 0 = 3."
   ]
  },
  {
   "cell_type": "code",
   "execution_count": 36,
   "id": "eee5fa9c",
   "metadata": {},
   "outputs": [
    {
     "data": {
      "text/plain": [
       "6"
      ]
     },
     "execution_count": 36,
     "metadata": {},
     "output_type": "execute_result"
    }
   ],
   "source": [
    "\n",
    "def max_vow_con(s):\n",
    "    max_vowel = 0\n",
    "    max_consonant = 0\n",
    "    for i in range(len(s)):\n",
    "        if s[i] in 'aeiou':\n",
    "            max_vowel=max(max_vowel,s.count(s[i]))\n",
    "        else:\n",
    "            max_consonant=max(max_consonant,s.count(s[i]))\n",
    "    return max_vowel + max_consonant\n",
    "s = \"successes\"\n",
    "max_vow_con(s)"
   ]
  },
  {
   "cell_type": "markdown",
   "id": "ed7a6e2e",
   "metadata": {},
   "source": [
    "### The below code is the optimized code for above question."
   ]
  },
  {
   "cell_type": "code",
   "execution_count": 35,
   "id": "404bc642",
   "metadata": {},
   "outputs": [
    {
     "data": {
      "text/plain": [
       "3"
      ]
     },
     "execution_count": 35,
     "metadata": {},
     "output_type": "execute_result"
    }
   ],
   "source": [
    "def max_vow_con(s):\n",
    "    max_vowel = 0\n",
    "    max_consonant = 0\n",
    "    chars = set(s)\n",
    "    for char in chars:\n",
    "        if char in 'aeiou':\n",
    "            max_vowel=max(max_vowel,s.count(char))\n",
    "        else:\n",
    "            max_consonant=max(max_consonant,s.count(char))\n",
    "    return max_vowel + max_consonant\n",
    "s = \"aeiaeia\"\n",
    "max_vow_con(s)"
   ]
  },
  {
   "cell_type": "markdown",
   "id": "08109674",
   "metadata": {},
   "source": [
    "1108. Defanging an IP Address, Given a valid (IPv4) IP address, return a defanged version of that IP address.\n",
    "\n",
    "A defanged IP address replaces every period \".\" with \"[.]\".\n",
    "\n",
    " \n",
    "\n",
    "Example 1:\n",
    "\n",
    "Input: address = \"1.1.1.1\"\n",
    "Output: \"1[.]1[.]1[.]1\"\n",
    "Example 2:\n",
    "\n",
    "Input: address = \"255.100.50.0\"\n",
    "Output: \"255[.]100[.]50[.]0\"\n",
    " \n",
    "\n",
    "Constraints:\n",
    "\n",
    "The given address is a valid IPv4 address."
   ]
  },
  {
   "cell_type": "code",
   "execution_count": 28,
   "id": "00a78eb6",
   "metadata": {},
   "outputs": [
    {
     "name": "stdout",
     "output_type": "stream",
     "text": [
      "255[.]100[.]50[.]0\n"
     ]
    }
   ],
   "source": [
    "s = \"255.100.50.0\"\n",
    "result = \"\"\n",
    "for i in range(len(s)):\n",
    "    if s[i] == \".\":\n",
    "        result +=\"[.]\"\n",
    "    else:\n",
    "        result += s[i]\n",
    "print(result)"
   ]
  },
  {
   "cell_type": "markdown",
   "id": "d7fd7ccf",
   "metadata": {},
   "source": [
    "771. Jewels and Stones, You're given strings jewels representing the types of stones that are jewels, and stones representing the stones you have. Each character in stones is a type of stone you have. You want to know how many of the stones you have are also jewels.\n",
    "\n",
    "Letters are case sensitive, so \"a\" is considered a different type of stone from \"A\".\n",
    "\n",
    " \n",
    "\n",
    "Example 1:\n",
    "\n",
    "Input: jewels = \"aA\", stones = \"aAAbbbb\"\n",
    "Output: 3\n",
    "Example 2:\n",
    "\n",
    "Input: jewels = \"z\", stones = \"ZZ\"\n",
    "Output: 0"
   ]
  },
  {
   "cell_type": "code",
   "execution_count": 66,
   "id": "1173238e",
   "metadata": {},
   "outputs": [
    {
     "name": "stdout",
     "output_type": "stream",
     "text": [
      "0\n"
     ]
    }
   ],
   "source": [
    "jewels = \"z\"\n",
    "stones = \"ZZ\"\n",
    "count = 0\n",
    "for i in jewels:\n",
    "    for j in stones:\n",
    "        if i == j:\n",
    "            count +=1\n",
    "print(count)\n"
   ]
  },
  {
   "cell_type": "markdown",
   "id": "3650bf37",
   "metadata": {},
   "source": [
    "3668. Restore finishing order. You are given an integer array order of length n and an integer array friends.\n",
    "\n",
    "order contains every integer from 1 to n exactly once, representing the IDs of the participants of a race in their finishing order.\n",
    "friends contains the IDs of your friends in the race sorted in strictly increasing order. Each ID in friends is guaranteed to appear in the order array.\n",
    "Return an array containing your friends' IDs in their finishing order.\n",
    "\n",
    "Example 1:\n",
    "\n",
    "Input: order = [3,1,2,5,4], friends = [1,3,4]\n",
    "\n",
    "Output: [3,1,4]\n",
    "\n",
    "Explanation:\n",
    "\n",
    "The finishing order is [3, 1, 2, 5, 4]. Therefore, the finishing order of your friends is [3, 1, 4].\n",
    "\n",
    "Example 2:\n",
    "\n",
    "Input: order = [1,4,5,3,2], friends = [2,5]\n",
    "\n",
    "Output: [5,2]\n",
    "\n",
    "Explanation:\n",
    "\n",
    "The finishing order is [1, 4, 5, 3, 2]. Therefore, the finishing order of your friends is [5, 2]."
   ]
  },
  {
   "cell_type": "code",
   "execution_count": 74,
   "id": "e61006b2",
   "metadata": {},
   "outputs": [
    {
     "data": {
      "text/plain": [
       "[5, 2]"
      ]
     },
     "execution_count": 74,
     "metadata": {},
     "output_type": "execute_result"
    }
   ],
   "source": [
    "def restore_finishing_order(order,friends):\n",
    "    finishing_list = []\n",
    "    for i in range(len(order)):\n",
    "        if order[i] in friends:\n",
    "            finishing_list.append(order[i])\n",
    "    return finishing_list\n",
    "order = [1,4,5,3,2]\n",
    "friends = [2,5]\n",
    "restore_finishing_order(order,friends)\n"
   ]
  }
 ],
 "metadata": {
  "kernelspec": {
   "display_name": "base",
   "language": "python",
   "name": "python3"
  },
  "language_info": {
   "codemirror_mode": {
    "name": "ipython",
    "version": 3
   },
   "file_extension": ".py",
   "mimetype": "text/x-python",
   "name": "python",
   "nbconvert_exporter": "python",
   "pygments_lexer": "ipython3",
   "version": "3.12.7"
  }
 },
 "nbformat": 4,
 "nbformat_minor": 5
}
