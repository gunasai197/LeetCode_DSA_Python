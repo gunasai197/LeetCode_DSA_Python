{
 "cells": [
  {
   "cell_type": "markdown",
   "id": "364e5d92",
   "metadata": {},
   "source": [
    "35. Search Insert Position.\n",
    "Given a sorted array of distinct integers and a target value, return the index if the target is found. If not, return the index where it would be if it were inserted in order. https://leetcode.com/problems/search-insert-position/description/\n",
    "\n",
    "You must write an algorithm with O(log n) runtime complexity.\n",
    "\n",
    "Example 1:\n",
    "Input: nums = [1,3,5,6], target = 5\n",
    "Output: 2\n",
    "\n",
    "Example 2:\n",
    "Input: nums = [1,3,5,6], target = 2\n",
    "Output: 1\n",
    "\n",
    "Example 3:\n",
    "Input: nums = [1,3,5,6], target = 7\n",
    "Output: 4\n",
    " "
   ]
  },
  {
   "cell_type": "code",
   "execution_count": 4,
   "id": "b1819743",
   "metadata": {},
   "outputs": [
    {
     "data": {
      "text/plain": [
       "4"
      ]
     },
     "execution_count": 4,
     "metadata": {},
     "output_type": "execute_result"
    }
   ],
   "source": [
    "def search_insert(nums,target):\n",
    "\n",
    "    l,r = 0, len(nums) - 1\n",
    "\n",
    "    while l <= r:\n",
    "        mid = (l+r) // 2\n",
    "        if target == nums[mid]:\n",
    "            return mid\n",
    "        if target > nums[mid]:\n",
    "            l = mid + 1\n",
    "        else:\n",
    "            r = mid -1\n",
    "    return l\n",
    "\n",
    "\n",
    "\n",
    "nums = [1,3,5,6]\n",
    "target = 7\n",
    "search_insert(nums,target)"
   ]
  },
  {
   "cell_type": "markdown",
   "id": "bf11685c",
   "metadata": {},
   "source": [
    "Given an array nums of size n, return the majority element. link --->https://leetcode.com/problems/majority-element/description/?envType=problem-list-v2&envId=array\n",
    "\n",
    "The majority element is the element that appears more than ⌊n / 2⌋ times. You may assume that the majority element always exists in the array.\n",
    "\n",
    "Example 1:\n",
    "Input: nums = [3,2,3]\n",
    "Output: 3\n",
    "\n",
    "Example 2:\n",
    "Input: nums = [2,2,1,1,1,2,2]\n",
    "Output: 2"
   ]
  },
  {
   "cell_type": "code",
   "execution_count": 6,
   "id": "ff5a6dd4",
   "metadata": {},
   "outputs": [
    {
     "data": {
      "text/plain": [
       "1"
      ]
     },
     "execution_count": 6,
     "metadata": {},
     "output_type": "execute_result"
    }
   ],
   "source": [
    "def majority_element(nums):\n",
    "\n",
    "    result = nums[0]\n",
    "    count = 0\n",
    "    for val in nums:\n",
    "        if count == 0:\n",
    "            result = val\n",
    "        if val == result:\n",
    "             count+=1\n",
    "        else:\n",
    "            count-=1\n",
    "    return result\n",
    "\n",
    "\n",
    "nums = [2,2,1,1,1]\n",
    "majority_element(nums)"
   ]
  },
  {
   "cell_type": "markdown",
   "id": "d0e4bc3f",
   "metadata": {},
   "source": [
    "27. Remove Element link ---> https://leetcode.com/problems/remove-element/description/?envType=problem-list-v2&envId=array\n",
    "Given an integer array nums and an integer val, remove all occurrences of val in nums in-place. The order of the elements may be changed. Then return the number of elements in nums which are not equal to val.\n",
    "\n",
    "Consider the number of elements in nums which are not equal to val be k, to get accepted, you need to do the following things:\n",
    "\n",
    "Change the array nums such that the first k elements of nums contain the elements which are not equal to val. The remaining elements of nums are not important as well as the size of nums.\n",
    "\n",
    "Return k.\n",
    "Example 1:\n",
    "\n",
    "Input: nums = [3,2,2,3], val = 3\n",
    "Output: 2, nums = [2,2,_,_]\n",
    "Example 2:\n",
    "\n",
    "Input: nums = [0,1,2,2,3,0,4,2], val = 2\n",
    "Output: 5, nums = [0,1,4,0,3,_,_,_]\n"
   ]
  },
  {
   "cell_type": "code",
   "execution_count": null,
   "id": "0f1c2328",
   "metadata": {},
   "outputs": [
    {
     "data": {
      "text/plain": [
       "5"
      ]
     },
     "execution_count": 23,
     "metadata": {},
     "output_type": "execute_result"
    }
   ],
   "source": [
    "def remove_element(nums,val):\n",
    "    l = 0\n",
    "\n",
    "    for i in range(len(nums)):\n",
    "        if nums[i] != val:\n",
    "            nums[l] = nums[i]\n",
    "            l+=1\n",
    "    return l\n",
    "\n",
    "nums = [0,1,2,2,3,0,4,2]\n",
    "val = 2\n",
    "remove_element(nums,val)"
   ]
  }
 ],
 "metadata": {
  "kernelspec": {
   "display_name": "base",
   "language": "python",
   "name": "python3"
  },
  "language_info": {
   "codemirror_mode": {
    "name": "ipython",
    "version": 3
   },
   "file_extension": ".py",
   "mimetype": "text/x-python",
   "name": "python",
   "nbconvert_exporter": "python",
   "pygments_lexer": "ipython3",
   "version": "3.12.7"
  }
 },
 "nbformat": 4,
 "nbformat_minor": 5
}
