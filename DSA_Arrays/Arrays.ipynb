{
 "cells": [
  {
   "cell_type": "markdown",
   "id": "364e5d92",
   "metadata": {},
   "source": [
    "35. Search Insert Position.\n",
    "Given a sorted array of distinct integers and a target value, return the index if the target is found. If not, return the index where it would be if it were inserted in order. https://leetcode.com/problems/search-insert-position/description/\n",
    "\n",
    "You must write an algorithm with O(log n) runtime complexity.\n",
    "\n",
    "Example 1:\n",
    "Input: nums = [1,3,5,6], target = 5\n",
    "Output: 2\n",
    "\n",
    "Example 2:\n",
    "Input: nums = [1,3,5,6], target = 2\n",
    "Output: 1\n",
    "\n",
    "Example 3:\n",
    "Input: nums = [1,3,5,6], target = 7\n",
    "Output: 4\n",
    " "
   ]
  },
  {
   "cell_type": "code",
   "execution_count": 4,
   "id": "b1819743",
   "metadata": {},
   "outputs": [
    {
     "data": {
      "text/plain": [
       "4"
      ]
     },
     "execution_count": 4,
     "metadata": {},
     "output_type": "execute_result"
    }
   ],
   "source": [
    "def search_insert(nums,target):\n",
    "\n",
    "    l,r = 0, len(nums) - 1\n",
    "\n",
    "    while l <= r:\n",
    "        mid = (l+r) // 2\n",
    "        if target == nums[mid]:\n",
    "            return mid\n",
    "        if target > nums[mid]:\n",
    "            l = mid + 1\n",
    "        else:\n",
    "            r = mid -1\n",
    "    return l\n",
    "\n",
    "\n",
    "\n",
    "nums = [1,3,5,6]\n",
    "target = 7\n",
    "search_insert(nums,target)"
   ]
  },
  {
   "cell_type": "markdown",
   "id": "bf11685c",
   "metadata": {},
   "source": [
    "Given an array nums of size n, return the majority element. link --->https://leetcode.com/problems/majority-element/description/?envType=problem-list-v2&envId=array\n",
    "\n",
    "The majority element is the element that appears more than ⌊n / 2⌋ times. You may assume that the majority element always exists in the array.\n",
    "\n",
    "Example 1:\n",
    "Input: nums = [3,2,3]\n",
    "Output: 3\n",
    "\n",
    "Example 2:\n",
    "Input: nums = [2,2,1,1,1,2,2]\n",
    "Output: 2"
   ]
  },
  {
   "cell_type": "code",
   "execution_count": 6,
   "id": "ff5a6dd4",
   "metadata": {},
   "outputs": [
    {
     "data": {
      "text/plain": [
       "1"
      ]
     },
     "execution_count": 6,
     "metadata": {},
     "output_type": "execute_result"
    }
   ],
   "source": [
    "def majority_element(nums):\n",
    "\n",
    "    result = nums[0]\n",
    "    count = 0\n",
    "    for val in nums:\n",
    "        if count == 0:\n",
    "            result = val\n",
    "        if val == result:\n",
    "             count+=1\n",
    "        else:\n",
    "            count-=1\n",
    "    return result\n",
    "\n",
    "\n",
    "nums = [2,2,1,1,1]\n",
    "majority_element(nums)"
   ]
  },
  {
   "cell_type": "markdown",
   "id": "d0e4bc3f",
   "metadata": {},
   "source": [
    "27. Remove Element link ---> https://leetcode.com/problems/remove-element/description/?envType=problem-list-v2&envId=array\n",
    "Given an integer array nums and an integer val, remove all occurrences of val in nums in-place. The order of the elements may be changed. Then return the number of elements in nums which are not equal to val.\n",
    "\n",
    "Consider the number of elements in nums which are not equal to val be k, to get accepted, you need to do the following things:\n",
    "\n",
    "Change the array nums such that the first k elements of nums contain the elements which are not equal to val. The remaining elements of nums are not important as well as the size of nums.\n",
    "\n",
    "Return k.\n",
    "Example 1:\n",
    "\n",
    "Input: nums = [3,2,2,3], val = 3\n",
    "Output: 2, nums = [2,2,_,_]\n",
    "Example 2:\n",
    "\n",
    "Input: nums = [0,1,2,2,3,0,4,2], val = 2\n",
    "Output: 5, nums = [0,1,4,0,3,_,_,_]\n"
   ]
  },
  {
   "cell_type": "code",
   "execution_count": null,
   "id": "0f1c2328",
   "metadata": {},
   "outputs": [
    {
     "data": {
      "text/plain": [
       "5"
      ]
     },
     "execution_count": 23,
     "metadata": {},
     "output_type": "execute_result"
    }
   ],
   "source": [
    "def remove_element(nums,val):\n",
    "    l = 0\n",
    "\n",
    "    for i in range(len(nums)):\n",
    "        if nums[i] != val:\n",
    "            nums[l] = nums[i]\n",
    "            l+=1\n",
    "    return l\n",
    "\n",
    "nums = [0,1,2,2,3,0,4,2]\n",
    "val = 2\n",
    "remove_element(nums,val)"
   ]
  },
  {
   "cell_type": "markdown",
   "id": "51cccc27",
   "metadata": {},
   "source": [
    "136. single number\n",
    "Given a non-empty array of integers nums, every element appears twice except for one. Find that single one.\n",
    "You must implement a solution with a linear runtime complexity and use only constant extra space. \n",
    "\n",
    "Example 1:\n",
    "Input: nums = [2,2,1]\n",
    "Output: 1\n",
    "\n",
    "Example 2:\n",
    "Input: nums = [4,1,2,1,2]\n",
    "Output: 4\n",
    "\n",
    "Example 3:\n",
    "Input: nums = [1]\n",
    "Output: 1"
   ]
  },
  {
   "cell_type": "code",
   "execution_count": 39,
   "id": "30724321",
   "metadata": {},
   "outputs": [
    {
     "data": {
      "text/plain": [
       "4"
      ]
     },
     "execution_count": 39,
     "metadata": {},
     "output_type": "execute_result"
    }
   ],
   "source": [
    "def single_element(nums):\n",
    "    d = {}\n",
    "    for keys in nums:\n",
    "        d[keys] = nums.count(keys)\n",
    "        if d[keys] < 2:\n",
    "            return keys\n",
    "\n",
    "nums = [4,1,2,1,2]\n",
    "single_element(nums)"
   ]
  },
  {
   "cell_type": "markdown",
   "id": "c0342ffc",
   "metadata": {},
   "source": [
    "260. single number 3 (Medium)\n",
    "Given an integer array nums, in which exactly two elements appear only once and all the other elements appear exactly twice. Find the two elements that appear only once. You can return the answer in any order.\n",
    "\n",
    "You must write an algorithm that runs in linear runtime complexity and uses only constant extra space.\n",
    "\n",
    " Example 1:\n",
    "Input: nums = [1,2,1,3,2,5]\n",
    "Output: [3,5]\n",
    "Explanation:  [5, 3] is also a valid answer.\n",
    "\n",
    "Example 2:\n",
    "Input: nums = [-1,0]\n",
    "Output: [-1,0]\n",
    "\n",
    "Example 3:\n",
    "Input: nums = [0,1]\n",
    "Output: [1,0]"
   ]
  },
  {
   "cell_type": "code",
   "execution_count": null,
   "id": "bf06df9c",
   "metadata": {},
   "outputs": [
    {
     "data": {
      "text/plain": [
       "[5, 9]"
      ]
     },
     "execution_count": 32,
     "metadata": {},
     "output_type": "execute_result"
    }
   ],
   "source": [
    "def single_number3(nums):\n",
    "    d = {}\n",
    "    lst = []\n",
    "    for val in nums:\n",
    "        d[val] = nums.count(val)\n",
    "        if d[val] < 2:\n",
    "            lst .append(val)\n",
    "    return lst\n",
    "\n",
    "nums = [0,1,0,1,5,7,7,9]\n",
    "single_number3(nums)"
   ]
  },
  {
   "cell_type": "markdown",
   "id": "f84b781a",
   "metadata": {},
   "source": [
    "137. single number2 (Medium) Given an integer array nums where every element appears three times except for one, which appears exactly once. Find the single element and return it.\n",
    "\n",
    "You must implement a solution with a linear runtime complexity and use only constant extra space.\n",
    "\n",
    "Example 1:\n",
    "Input: nums = [2,2,3,2]\n",
    "Output: 3\n",
    "\n",
    "Example 2:\n",
    "Input: nums = [0,1,0,1,0,1,99]\n",
    "Output: 99"
   ]
  },
  {
   "cell_type": "code",
   "execution_count": 34,
   "id": "e6f96982",
   "metadata": {},
   "outputs": [
    {
     "data": {
      "text/plain": [
       "7"
      ]
     },
     "execution_count": 34,
     "metadata": {},
     "output_type": "execute_result"
    }
   ],
   "source": [
    "def single_number2(nums):\n",
    "    d = {}\n",
    "    for keys in nums:\n",
    "        d[keys] = nums.count(keys)\n",
    "        if d[keys] < 2:\n",
    "            return keys\n",
    "\n",
    "nums = [3,4,3,7,3,4,4]\n",
    "single_number2(nums)"
   ]
  },
  {
   "cell_type": "code",
   "execution_count": 18,
   "id": "ca1ee0c8",
   "metadata": {},
   "outputs": [
    {
     "name": "stdout",
     "output_type": "stream",
     "text": [
      "8\n"
     ]
    }
   ],
   "source": [
    "nums = [0,1,5,2,7,4,6]\n",
    "\n",
    "max_ele = nums[0]\n",
    "\n",
    "for i in range(len(nums)):\n",
    "    if nums[i] > max_ele:\n",
    "        max_ele = nums[i]\n",
    "print(max_ele+1)\n"
   ]
  },
  {
   "cell_type": "markdown",
   "id": "aaa197c3",
   "metadata": {},
   "source": [
    "217. contains Duplicate, \n",
    "Given an integer array nums, return true if any value appears at least twice in the array, and return false if every element is distinct.\n",
    "\n",
    "Example 1:\n",
    "Input: nums = [1,2,3,1]\n",
    "Output: true\n",
    "\n",
    "Explanation:\n",
    "The element 1 occurs at the indices 0 and 3.\n",
    "\n",
    "Example 2:\n",
    "Input: nums = [1,2,3,4]\n",
    "Output: false\n",
    "\n",
    "Explanation:\n",
    "All elements are distinct.\n",
    "\n",
    "Example 3:\n",
    "Input: nums = [1,1,1,3,3,4,3,2,4,2]\n",
    "Output: true"
   ]
  },
  {
   "cell_type": "code",
   "execution_count": null,
   "id": "cecf36cd",
   "metadata": {},
   "outputs": [
    {
     "data": {
      "text/plain": [
       "True"
      ]
     },
     "execution_count": 28,
     "metadata": {},
     "output_type": "execute_result"
    }
   ],
   "source": [
    "def Contains_duplicate(nums):\n",
    "    empty_set = set() #1,2,3,4\n",
    "    for i in nums: #1,2,3,4,1\n",
    "        if i in empty_set: # 1,2,3,4 in () ---> F,F,F,F,T\n",
    "            return True # T\n",
    "        empty_set.add(i) # 1,2,3,4 add into set \n",
    "    return False\n",
    "\n",
    "nums = [1,2,3,4,1]\n",
    "Contains_duplicate(nums)"
   ]
  },
  {
   "cell_type": "markdown",
   "id": "159052c9",
   "metadata": {},
   "source": [
    "66. Plus One You are given a large integer represented as an integer array digits, where each digits[i] is the ith digit of the integer. The digits are ordered from most significant to least significant in left-to-right order. The large integer does not contain any leading 0's.\n",
    "\n",
    "Increment the large integer by one and return the resulting array of digits.\n",
    "\n",
    " \n",
    "\n",
    "Example 1:\n",
    "Input: digits = [1,2,3]\n",
    "Output: [1,2,4]\n",
    "Explanation: The array represents the integer 123.\n",
    "Incrementing by one gives 123 + 1 = 124.\n",
    "Thus, the result should be [1,2,4].\n",
    "\n",
    "Example 2:\n",
    "Input: digits = [4,3,2,1]\n",
    "Output: [4,3,2,2]\n",
    "Explanation: The array represents the integer 4321.\n",
    "Incrementing by one gives 4321 + 1 = 4322.\n",
    "Thus, the result should be [4,3,2,2].\n",
    "\n",
    "Example 3:\n",
    "Input: digits = [9]\n",
    "Output: [1,0]\n",
    "Explanation: The array represents the integer 9.\n",
    "Incrementing by one gives 9 + 1 = 10.\n",
    "Thus, the result should be [1,0]."
   ]
  },
  {
   "cell_type": "code",
   "execution_count": null,
   "id": "8f16c2ed",
   "metadata": {},
   "outputs": [
    {
     "data": {
      "text/plain": [
       "[4, 3, 2, 2]"
      ]
     },
     "execution_count": 58,
     "metadata": {},
     "output_type": "execute_result"
    }
   ],
   "source": [
    "def PlusOne(digits):\n",
    "    empty_str = ''\n",
    "    empty_lst = []\n",
    "\n",
    "    for i in digits:\n",
    "        empty_str+=str(i)\n",
    "\n",
    "    empty_str = int(empty_str)+1\n",
    "    empty_str = str(empty_str)\n",
    "\n",
    "    for value in empty_str:\n",
    "        empty_lst.append(int(value))\n",
    "        \n",
    "    return empty_lst\n",
    "\n",
    "digits = [4,3,2,1]\n",
    "PlusOne(digits)"
   ]
  },
  {
   "cell_type": "markdown",
   "id": "37861369",
   "metadata": {},
   "source": [
    "121. Best Time to Buy and Sell stock, You are given an array prices where prices[i] is the price of a given stock on the ith day.\n",
    "\n",
    "You want to maximize your profit by choosing a single day to buy one stock and choosing a different day in the future to sell that stock.\n",
    "\n",
    "Return the maximum profit you can achieve from this transaction. If you cannot achieve any profit, return 0.\n",
    "\n",
    " \n",
    "\n",
    "Example 1:\n",
    "\n",
    "Input: prices = [7,1,5,3,6,4]\n",
    "Output: 5\n",
    "Explanation: Buy on day 2 (price = 1) and sell on day 5 (price = 6), profit = 6-1 = 5.\n",
    "Note that buying on day 2 and selling on day 1 is not allowed because you must buy before you sell.\n",
    "Example 2:\n",
    "\n",
    "Input: prices = [7,6,4,3,1]\n",
    "Output: 0\n",
    "Explanation: In this case, no transactions are done and the max profit = 0."
   ]
  },
  {
   "cell_type": "code",
   "execution_count": 41,
   "id": "37cb5d35",
   "metadata": {},
   "outputs": [
    {
     "data": {
      "text/plain": [
       "5"
      ]
     },
     "execution_count": 41,
     "metadata": {},
     "output_type": "execute_result"
    }
   ],
   "source": [
    "def BestTimeToBuyStock(prices):\n",
    "    buy=0\n",
    "    sell=1\n",
    "    max_profit=0\n",
    "    while sell<len(prices):\n",
    "            if prices[sell]>prices[buy]:\n",
    "                profit=prices[sell]-prices[buy]\n",
    "                if profit>max_profit:\n",
    "                    max_profit=profit\n",
    "\n",
    "            else:\n",
    "                buy=sell\n",
    "            sell+=1\n",
    "\n",
    "    return max_profit\n",
    "\n",
    "BestTimeToBuyStock(prices=[7,1,5,3,6,4])"
   ]
  }
 ],
 "metadata": {
  "kernelspec": {
   "display_name": "base",
   "language": "python",
   "name": "python3"
  },
  "language_info": {
   "codemirror_mode": {
    "name": "ipython",
    "version": 3
   },
   "file_extension": ".py",
   "mimetype": "text/x-python",
   "name": "python",
   "nbconvert_exporter": "python",
   "pygments_lexer": "ipython3",
   "version": "3.12.7"
  }
 },
 "nbformat": 4,
 "nbformat_minor": 5
}
