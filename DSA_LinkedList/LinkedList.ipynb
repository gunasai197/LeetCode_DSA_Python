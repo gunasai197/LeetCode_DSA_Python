{
 "cells": [
  {
   "cell_type": "markdown",
   "id": "430eecf2",
   "metadata": {},
   "source": [
    "### What is Linked List?\n",
    "\n",
    "A Linked List is a linear data structure where elements are stored in nodes, and each node points (links) to the next node in memory.\n",
    "\n",
    "Unlike an array, linked list elements are not stored in contiguous memory locations. Instead, they are scattered in memory and connected through pointers.\n",
    "\n",
    "### Structure of a Node\n",
    "\n",
    "Each node has two parts:\n",
    "\n",
    "Data – stores the actual value.\n",
    "\n",
    "Pointer/Reference (next) – points to the next node in the list.\n",
    "\n",
    "In Python, this is usually represented as:"
   ]
  },
  {
   "cell_type": "code",
   "execution_count": 1,
   "id": "550d705a",
   "metadata": {},
   "outputs": [],
   "source": [
    "class Node:\n",
    "    def __init__(self, data):\n",
    "        self.data = data\n",
    "        self.next = None\n",
    "        "
   ]
  },
  {
   "cell_type": "markdown",
   "id": "16eb95f3",
   "metadata": {},
   "source": [
    "### Types of Linked Lists\n",
    "There are three basic forms of linked lists:    \n",
    "\n",
    "1. Singly linked list:      \n",
    "\n",
    "        A singly linked list is the simplest kind of linked lists. It takes up less space in memory because each node has only one address to the next node, like in the image below.   \n",
    "                   \n",
    "2. Doubly linked list:   \n",
    "\n",
    "        A doubly linked list has nodes with addresses to both the previous and the next node, like in the image below, and therefore takes up more memory. But doubly linked lists are good if you want to be able to move both up and down in the list.   \n",
    "\n",
    "3. Circular linked list:                \n",
    "\n",
    "    A circular linked list is like a singly or doubly linked list with the first node, the \"head\", and the last node, the \"tail\", connected.\n",
    "    In singly or doubly linked lists, we can find the start and end of a list by just checking if the links are null. But for circular linked lists, more complex code is needed to explicitly check for start and end nodes in certain applications.\n",
    "    Circular linked lists are good for lists you need to cycle through continuously.\n",
    "    \n",
    "### Operations in Linked List\n",
    "\n",
    "1. Traversal – Go through each node one by one.\n",
    "\n",
    "2. Insertion – At beginning, at end, or at a given position.\n",
    "\n",
    "3. Deletion – Remove a node by value or position.\n",
    "\n",
    "4. Searching – Find if an element exists.\n",
    "\n",
    "5. Updating – Change value of a node.\n",
    "\n",
    "### Real-Life Applications of Linked Lists\n",
    "\n",
    "1. Music playlists (next/previous song navigation).\n",
    "\n",
    "2. Undo/Redo functionality in editors.\n",
    "\n",
    "3. Memory management (OS uses linked lists for managing free blocks).\n",
    "\n",
    "4. Hash tables (chaining uses linked lists).\n",
    "\n",
    "5. Queue & Stack implementations."
   ]
  },
  {
   "cell_type": "code",
   "execution_count": null,
   "id": "5ca4ba42",
   "metadata": {},
   "outputs": [
    {
     "name": "stdout",
     "output_type": "stream",
     "text": [
      "Linked list is empty!...\n"
     ]
    }
   ],
   "source": [
    "# how to traversal the linked list\n",
    "\n",
    "class node:  # Create Node class (data + pointer).\n",
    "    def __init__(self,data):\n",
    "        self.data = data\n",
    "        self.pointer = None\n",
    "\n",
    "class LinkedList: # create linked list class (head pointer).\n",
    "    def __init__(self):\n",
    "        self.head = None\n",
    "    \n",
    "    def check_ll(self):\n",
    "        if self.head == None:\n",
    "            print(\"Linked list is empty!...\") # it will display this line because, we did not insert the data into linked list.\n",
    "        else:\n",
    "            n = self.head\n",
    "            while n != None: # this loop is use to travers the linked list node by node\n",
    "                print(n.data)\n",
    "                n = n.pointer\n",
    "\n",
    "ll1 = LinkedList()\n",
    "ll1.check_ll()       "
   ]
  },
  {
   "cell_type": "code",
   "execution_count": null,
   "id": "e6c0437d",
   "metadata": {},
   "outputs": [],
   "source": [
    "# how to create a linked list in python language follow the below steps:\n",
    "\n",
    "# Step 1: Create Node class (data + next).\n",
    "# Step 2: Create LinkedList class (head pointer).\n",
    "# Step 3: Add append() method.\n",
    "# Step 4: Add display() method.\n",
    "\n",
    "# Step 1: Create Node class (data + next).\n",
    "\n",
    "class Node:\n",
    "    def __init__(self,data):\n",
    "        self.data = data # store data\n",
    "        self.next = None # pointer to next node\n",
    "\n",
    "# Step 2: Create LinkedList class (head pointer).\n",
    "\n",
    "class LinkedList:  # This class manages the nodes (insert, display, delete, etc.).\n",
    "    def __init__(self):\n",
    "        self.head = None # head is points to first node\n",
    "        \n",
    "    def append(self, data): # this method inserting data into a linked list\n",
    "        new_node = Node(data)\n",
    "        \n",
    "        if self.head is None:   # if list is empty\n",
    "            self.head = new_node\n",
    "            return\n",
    "        \n",
    "        temp = self.head\n",
    "        while temp.next:        # move until last node\n",
    "            temp = temp.next\n",
    "        temp.next = new_node\n",
    "\n"
   ]
  }
 ],
 "metadata": {
  "kernelspec": {
   "display_name": "base",
   "language": "python",
   "name": "python3"
  },
  "language_info": {
   "codemirror_mode": {
    "name": "ipython",
    "version": 3
   },
   "file_extension": ".py",
   "mimetype": "text/x-python",
   "name": "python",
   "nbconvert_exporter": "python",
   "pygments_lexer": "ipython3",
   "version": "3.12.7"
  }
 },
 "nbformat": 4,
 "nbformat_minor": 5
}
