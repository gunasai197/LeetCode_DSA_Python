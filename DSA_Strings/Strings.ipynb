{
 "cells": [
  {
   "cell_type": "markdown",
   "id": "38cfd9a4",
   "metadata": {},
   "source": [
    "58. Length of last word, Given a string s consisting of words and spaces, return the length of the last word in the string.\n",
    "\n",
    "A word is a maximal substring consisting of non-space characters only.\n",
    "\n",
    "Example 1:\n",
    "Input: s = \"Hello World\"\n",
    "Output: 5\n",
    "Explanation: The last word is \"World\" with length 5.\n",
    "\n",
    "Example 2:\n",
    "Input: s = \"   fly me   to   the moon  \"\n",
    "Output: 4\n",
    "Explanation: The last word is \"moon\" with length 4.\n",
    "\n",
    "Example 3:\n",
    "Input: s = \"luffy is still joyboy\"\n",
    "Output: 6\n",
    "Explanation: The last word is \"joyboy\" with length 6."
   ]
  },
  {
   "cell_type": "code",
   "execution_count": null,
   "id": "56dc5e09",
   "metadata": {},
   "outputs": [
    {
     "data": {
      "text/plain": [
       "4"
      ]
     },
     "execution_count": 10,
     "metadata": {},
     "output_type": "execute_result"
    }
   ],
   "source": [
    "def LengthOfLastword(s):\n",
    "    count = 0\n",
    "    for i in s.split()[-1]:\n",
    "        count+=1\n",
    "    return count\n",
    "\n",
    "LengthOfLastword(s = ' fly me to the moon  ')"
   ]
  },
  {
   "cell_type": "markdown",
   "id": "5b205114",
   "metadata": {},
   "source": [
    "387. First Unique character in a string, Given a string s, find the first non-repeating character in it and return its index. If it does not exist, return -1.\n",
    " \n",
    "Example 1:\n",
    "Input: s = \"leetcode\"\n",
    "Output: 0\n",
    "Explanation:\n",
    "The character 'l' at index 0 is the first character that does not occur at any other index.\n",
    "\n",
    "Example 2:\n",
    "Input: s = \"loveleetcode\"\n",
    "Output: 2\n",
    "\n",
    "Example 3:\n",
    "Input: s = \"aabb\"\n",
    "Output: -1"
   ]
  },
  {
   "cell_type": "code",
   "execution_count": 58,
   "id": "74463dbf",
   "metadata": {},
   "outputs": [
    {
     "data": {
      "text/plain": [
       "2"
      ]
     },
     "execution_count": 58,
     "metadata": {},
     "output_type": "execute_result"
    }
   ],
   "source": [
    "def firstUniqueChar(s):\n",
    "    count = {} #dict data structure\n",
    "\n",
    "    for char in s:\n",
    "        if char in count:\n",
    "            count[char]+=1\n",
    "        else:\n",
    "            count[char]=1\n",
    "    for i in range(len(s)):\n",
    "        if count[s[i]] == 1:\n",
    "            return i\n",
    "    return -1\n",
    "\n",
    "firstUniqueChar(s = \"loveleetcode\")"
   ]
  },
  {
   "cell_type": "markdown",
   "id": "c3aa5ad3",
   "metadata": {},
   "source": [
    "we can do the above question in two ways"
   ]
  },
  {
   "cell_type": "code",
   "execution_count": 37,
   "id": "39a75b11",
   "metadata": {},
   "outputs": [
    {
     "data": {
      "text/plain": [
       "0"
      ]
     },
     "execution_count": 37,
     "metadata": {},
     "output_type": "execute_result"
    }
   ],
   "source": [
    "from collections import Counter\n",
    "\n",
    "def firstUniqChar(s):\n",
    "    # Step 1: Count all characters\n",
    "    count = Counter(s)\n",
    "    \n",
    "    # Step 2: Find first character with count 1\n",
    "    for i, char in enumerate(s):\n",
    "        if count[char] == 1:\n",
    "            return i\n",
    "    \n",
    "    # Step 3: If no unique char found\n",
    "    return -1\n",
    "firstUniqChar(s = 'leetcode' )"
   ]
  },
  {
   "cell_type": "code",
   "execution_count": null,
   "id": "fca30864",
   "metadata": {},
   "outputs": [
    {
     "name": "stdout",
     "output_type": "stream",
     "text": [
      "134\n"
     ]
    }
   ],
   "source": [
    "num1 = '11'\n",
    "num2 = '123'\n",
    "numDict = {'0' : 0, '1' : 1, '2' : 2, '3' : 3, '4' : 4, '5' : 5,'6' : 6, '7' : 7, '8' : 8, '9' : 9}\n",
    "result_1 = 0\n",
    "result_2 = 0\n",
    "for d in num1:\n",
    "    ans1=ans1*10+numDict[d]\n",
    "for d in num2:\n",
    "    ans2=ans2*10+numDict[d]\n",
    "print(str(ans1+ans2))"
   ]
  },
  {
   "cell_type": "markdown",
   "id": "4decce7f",
   "metadata": {},
   "source": [
    "125. Vaild Palindrome, A phrase is a palindrome if, after converting all uppercase letters into lowercase letters and removing all non-alphanumeric characters, it reads the same forward and backward. Alphanumeric characters include letters and numbers.\n",
    "\n",
    "Given a string s, return true if it is a palindrome, or false otherwise.\n",
    "\n",
    "Example 1:\n",
    "Input: s = \"A man, a plan, a canal: Panama\"\n",
    "Output: true\n",
    "Explanation: \"amanaplanacanalpanama\" is a palindrome.\n",
    "\n",
    "Example 2:\n",
    "Input: s = \"race a car\"\n",
    "Output: false\n",
    "Explanation: \"raceacar\" is not a palindrome.\n",
    "\n",
    "Example 3:\n",
    "Input: s = \" \"\n",
    "Output: true\n",
    "Explanation: s is an empty string \"\" after removing non-alphanumeric characters.\n",
    "Since an empty string reads the same forward and backward, it is a palindrome."
   ]
  },
  {
   "cell_type": "code",
   "execution_count": 87,
   "id": "f5084cf0",
   "metadata": {},
   "outputs": [
    {
     "name": "stdout",
     "output_type": "stream",
     "text": [
      "True\n"
     ]
    }
   ],
   "source": [
    "s = \"A man, a plan, a canal: Panama\"\n",
    "a = ''\n",
    "for i in s:\n",
    "    if i.isalnum():\n",
    "        a+=i.lower()\n",
    "print(a == a[::-1])\n",
    "\n"
   ]
  },
  {
   "cell_type": "code",
   "execution_count": 76,
   "id": "b9c7b2eb",
   "metadata": {},
   "outputs": [
    {
     "name": "stdout",
     "output_type": "stream",
     "text": [
      "False\n"
     ]
    }
   ],
   "source": [
    "s = 'race a car'\n",
    "cleaned = ''.join(char.lower() for char in s if char.isalnum())\n",
    "print(cleaned == cleaned[::-1])\n"
   ]
  },
  {
   "cell_type": "markdown",
   "id": "c3660a64",
   "metadata": {},
   "source": [
    "520. Detect Capital, We define the usage of capitals in a word to be right when one of the following cases holds:\n",
    "\n",
    "All letters in this word are capitals, like \"USA\".\n",
    "All letters in this word are not capitals, like \"leetcode\".\n",
    "Only the first letter in this word is capital, like \"Google\".\n",
    "Given a string word, return true if the usage of capitals in it is right.\n",
    "\n",
    "Example 1:\n",
    "Input: word = \"USA\"\n",
    "Output: true\n",
    "\n",
    "Example 2:\n",
    "Input: word = \"FlaG\"\n",
    "Output: false"
   ]
  },
  {
   "cell_type": "code",
   "execution_count": 105,
   "id": "42d524cd",
   "metadata": {},
   "outputs": [
    {
     "data": {
      "text/plain": [
       "True"
      ]
     },
     "execution_count": 105,
     "metadata": {},
     "output_type": "execute_result"
    }
   ],
   "source": [
    "def detectCapital(word):\n",
    "    if word.isupper() or word.islower() or word.istitle():\n",
    "        return True\n",
    "    else:\n",
    "        return False\n",
    "detectCapital(word='Leetcode') # True\n",
    "#detectCapital(word='leetcode') # True\n",
    "#detectCapital(word='USA') # True\n",
    "#detectCapital(word = \"LeetCode\") # False"
   ]
  }
 ],
 "metadata": {
  "kernelspec": {
   "display_name": "base",
   "language": "python",
   "name": "python3"
  },
  "language_info": {
   "codemirror_mode": {
    "name": "ipython",
    "version": 3
   },
   "file_extension": ".py",
   "mimetype": "text/x-python",
   "name": "python",
   "nbconvert_exporter": "python",
   "pygments_lexer": "ipython3",
   "version": "3.12.7"
  }
 },
 "nbformat": 4,
 "nbformat_minor": 5
}
