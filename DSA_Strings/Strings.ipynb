{
 "cells": [
  {
   "cell_type": "markdown",
   "id": "38cfd9a4",
   "metadata": {},
   "source": [
    "58. Length of last word, Given a string s consisting of words and spaces, return the length of the last word in the string.\n",
    "\n",
    "A word is a maximal substring consisting of non-space characters only.\n",
    "\n",
    "Example 1:\n",
    "Input: s = \"Hello World\"\n",
    "Output: 5\n",
    "Explanation: The last word is \"World\" with length 5.\n",
    "\n",
    "Example 2:\n",
    "Input: s = \"   fly me   to   the moon  \"\n",
    "Output: 4\n",
    "Explanation: The last word is \"moon\" with length 4.\n",
    "\n",
    "Example 3:\n",
    "Input: s = \"luffy is still joyboy\"\n",
    "Output: 6\n",
    "Explanation: The last word is \"joyboy\" with length 6."
   ]
  },
  {
   "cell_type": "code",
   "execution_count": 1,
   "id": "56dc5e09",
   "metadata": {},
   "outputs": [
    {
     "data": {
      "text/plain": [
       "4"
      ]
     },
     "execution_count": 1,
     "metadata": {},
     "output_type": "execute_result"
    }
   ],
   "source": [
    "def LengthOfLastword(s):\n",
    "    count = 0\n",
    "    for i in s.split()[-1]:\n",
    "        count+=1\n",
    "    return count\n",
    "\n",
    "LengthOfLastword(s = ' fly me to the moon  ')"
   ]
  },
  {
   "cell_type": "markdown",
   "id": "5b205114",
   "metadata": {},
   "source": [
    "387. First Unique character in a string, Given a string s, find the first non-repeating character in it and return its index. If it does not exist, return -1.\n",
    " \n",
    "Example 1:\n",
    "Input: s = \"leetcode\"\n",
    "Output: 0\n",
    "Explanation:\n",
    "The character 'l' at index 0 is the first character that does not occur at any other index.\n",
    "\n",
    "Example 2:\n",
    "Input: s = \"loveleetcode\"\n",
    "Output: 2\n",
    "\n",
    "Example 3:\n",
    "Input: s = \"aabb\"\n",
    "Output: -1"
   ]
  },
  {
   "cell_type": "code",
   "execution_count": 58,
   "id": "74463dbf",
   "metadata": {},
   "outputs": [
    {
     "data": {
      "text/plain": [
       "2"
      ]
     },
     "execution_count": 58,
     "metadata": {},
     "output_type": "execute_result"
    }
   ],
   "source": [
    "def firstUniqueChar(s):\n",
    "    count = {} #dict data structure\n",
    "\n",
    "    for char in s:\n",
    "        if char in count:\n",
    "            count[char]+=1\n",
    "        else:\n",
    "            count[char]=1\n",
    "    for i in range(len(s)):\n",
    "        if count[s[i]] == 1:\n",
    "            return i\n",
    "    return -1\n",
    "\n",
    "firstUniqueChar(s = \"loveleetcode\")"
   ]
  },
  {
   "cell_type": "markdown",
   "id": "c3aa5ad3",
   "metadata": {},
   "source": [
    "we can do the above question in two ways"
   ]
  },
  {
   "cell_type": "code",
   "execution_count": 37,
   "id": "39a75b11",
   "metadata": {},
   "outputs": [
    {
     "data": {
      "text/plain": [
       "0"
      ]
     },
     "execution_count": 37,
     "metadata": {},
     "output_type": "execute_result"
    }
   ],
   "source": [
    "from collections import Counter\n",
    "\n",
    "def firstUniqChar(s):\n",
    "    # Step 1: Count all characters\n",
    "    count = Counter(s)\n",
    "    \n",
    "    # Step 2: Find first character with count 1\n",
    "    for i, char in enumerate(s):\n",
    "        if count[char] == 1:\n",
    "            return i\n",
    "    \n",
    "    # Step 3: If no unique char found\n",
    "    return -1\n",
    "firstUniqChar(s = 'leetcode' )"
   ]
  },
  {
   "cell_type": "code",
   "execution_count": null,
   "id": "fca30864",
   "metadata": {},
   "outputs": [
    {
     "name": "stdout",
     "output_type": "stream",
     "text": [
      "134\n"
     ]
    }
   ],
   "source": [
    "num1 = '11'\n",
    "num2 = '123'\n",
    "numDict = {'0' : 0, '1' : 1, '2' : 2, '3' : 3, '4' : 4, '5' : 5,'6' : 6, '7' : 7, '8' : 8, '9' : 9}\n",
    "result_1 = 0\n",
    "result_2 = 0\n",
    "for d in num1:\n",
    "    ans1=ans1*10+numDict[d]\n",
    "for d in num2:\n",
    "    ans2=ans2*10+numDict[d]\n",
    "print(str(ans1+ans2))"
   ]
  },
  {
   "cell_type": "markdown",
   "id": "4decce7f",
   "metadata": {},
   "source": [
    "125. Vaild Palindrome, A phrase is a palindrome if, after converting all uppercase letters into lowercase letters and removing all non-alphanumeric characters, it reads the same forward and backward. Alphanumeric characters include letters and numbers.\n",
    "\n",
    "Given a string s, return true if it is a palindrome, or false otherwise.\n",
    "\n",
    "Example 1:\n",
    "Input: s = \"A man, a plan, a canal: Panama\"\n",
    "Output: true\n",
    "Explanation: \"amanaplanacanalpanama\" is a palindrome.\n",
    "\n",
    "Example 2:\n",
    "Input: s = \"race a car\"\n",
    "Output: false\n",
    "Explanation: \"raceacar\" is not a palindrome.\n",
    "\n",
    "Example 3:\n",
    "Input: s = \" \"\n",
    "Output: true\n",
    "Explanation: s is an empty string \"\" after removing non-alphanumeric characters.\n",
    "Since an empty string reads the same forward and backward, it is a palindrome."
   ]
  },
  {
   "cell_type": "code",
   "execution_count": 87,
   "id": "f5084cf0",
   "metadata": {},
   "outputs": [
    {
     "name": "stdout",
     "output_type": "stream",
     "text": [
      "True\n"
     ]
    }
   ],
   "source": [
    "s = \"A man, a plan, a canal: Panama\"\n",
    "a = ''\n",
    "for i in s:\n",
    "    if i.isalnum():\n",
    "        a+=i.lower()\n",
    "print(a == a[::-1])\n",
    "\n"
   ]
  },
  {
   "cell_type": "code",
   "execution_count": 76,
   "id": "b9c7b2eb",
   "metadata": {},
   "outputs": [
    {
     "name": "stdout",
     "output_type": "stream",
     "text": [
      "False\n"
     ]
    }
   ],
   "source": [
    "s = 'race a car'\n",
    "cleaned = ''.join(char.lower() for char in s if char.isalnum())\n",
    "print(cleaned == cleaned[::-1])\n"
   ]
  },
  {
   "cell_type": "markdown",
   "id": "c3660a64",
   "metadata": {},
   "source": [
    "520. Detect Capital, We define the usage of capitals in a word to be right when one of the following cases holds:\n",
    "\n",
    "All letters in this word are capitals, like \"USA\".\n",
    "All letters in this word are not capitals, like \"leetcode\".\n",
    "Only the first letter in this word is capital, like \"Google\".\n",
    "Given a string word, return true if the usage of capitals in it is right.\n",
    "\n",
    "Example 1:\n",
    "Input: word = \"USA\"\n",
    "Output: true\n",
    "\n",
    "Example 2:\n",
    "Input: word = \"FlaG\"\n",
    "Output: false"
   ]
  },
  {
   "cell_type": "code",
   "execution_count": 105,
   "id": "42d524cd",
   "metadata": {},
   "outputs": [
    {
     "data": {
      "text/plain": [
       "True"
      ]
     },
     "execution_count": 105,
     "metadata": {},
     "output_type": "execute_result"
    }
   ],
   "source": [
    "def detectCapital(word):\n",
    "    if word.isupper() or word.islower() or word.istitle():\n",
    "        return True\n",
    "    else:\n",
    "        return False\n",
    "detectCapital(word='Leetcode') # True\n",
    "#detectCapital(word='leetcode') # True\n",
    "#detectCapital(word='USA') # True\n",
    "#detectCapital(word = \"LeetCode\") # False"
   ]
  },
  {
   "cell_type": "markdown",
   "id": "d6e24260",
   "metadata": {},
   "source": [
    "709. To lower case, Given a string s, return the string after replacing every uppercase letter with the same lowercase letter.\n",
    "\n",
    "Example 1:\n",
    "Input: s = \"Hello\"\n",
    "Output: \"hello\"\n",
    "\n",
    "Example 2:\n",
    "Input: s = \"here\"\n",
    "Output: \"here\"\n",
    "\n",
    "Example 3:\n",
    "Input: s = \"LOVELY\"\n",
    "Output: \"lovely\""
   ]
  },
  {
   "cell_type": "code",
   "execution_count": null,
   "id": "ed042f46",
   "metadata": {},
   "outputs": [
    {
     "data": {
      "text/plain": [
       "'hello world'"
      ]
     },
     "execution_count": 11,
     "metadata": {},
     "output_type": "execute_result"
    }
   ],
   "source": [
    "def ToLowerCase(s):\n",
    "    if s.isupper() or s.istitle():\n",
    "        return s.lower()\n",
    "    if s.islower():\n",
    "        return s\n",
    "    else:\n",
    "        return s.lower()\n",
    "ToLowerCase(s = \"Hello World\")"
   ]
  },
  {
   "cell_type": "markdown",
   "id": "6367f67d",
   "metadata": {},
   "source": [
    "819, Most common word, Given a string paragraph and a string array of the banned words banned, return the most frequent word that is not banned. It is guaranteed there is at least one word that is not banned, and that the answer is unique.\n",
    "\n",
    "The words in paragraph are case-insensitive and the answer should be returned in lowercase.\n",
    "\n",
    "Note that words can not contain punctuation symbols.\n",
    "\n",
    "Example 1:\n",
    "Input: paragraph = \"Bob hit a ball, the hit BALL flew far after it was hit.\", banned = [\"hit\"]\n",
    "Output: \"ball\"\n",
    "Explanation: \n",
    "\"hit\" occurs 3 times, but it is a banned word.\n",
    "\"ball\" occurs twice (and no other word does), so it is the most frequent non-banned word in the paragraph. \n",
    "\n",
    "Note that words in the paragraph are not case sensitive,\n",
    "that punctuation is ignored (even if adjacent to words, such as \"ball,\"), \n",
    "and that \"hit\" isn't the answer even though it occurs more because it is banned.\n",
    "\n",
    "Example 2:\n",
    "Input: paragraph = \"a.\", banned = []\n",
    "Output: \"a\"\n",
    " "
   ]
  },
  {
   "cell_type": "code",
   "execution_count": 77,
   "id": "7960acb9",
   "metadata": {},
   "outputs": [
    {
     "name": "stdout",
     "output_type": "stream",
     "text": [
      "a\n"
     ]
    }
   ],
   "source": [
    "paragraph = \"a.\"\n",
    "banned = ['']\n",
    "\n",
    "k = \"!?',;.\"\n",
    "\n",
    "s = paragraph.lower()\n",
    "\n",
    "for syb in k:\n",
    "    s = s.replace(syb,' ')\n",
    "\n",
    "s1= s.split()\n",
    "\n",
    "d = {}\n",
    "\n",
    "for char in s1:\n",
    "    d[char]=s1.count(char)\n",
    "\n",
    "result_str = ''\n",
    "finaly_count = 0\n",
    "\n",
    "for c,counts in d.items():\n",
    "    if c not in banned and counts > finaly_count:\n",
    "        result_str = c\n",
    "        finaly_count = counts\n",
    "print(result_str)\n",
    "\n"
   ]
  },
  {
   "cell_type": "code",
   "execution_count": 53,
   "id": "846ed5da",
   "metadata": {},
   "outputs": [
    {
     "name": "stdout",
     "output_type": "stream",
     "text": [
      "ball\n"
     ]
    }
   ],
   "source": [
    "from collections import Counter\n",
    "s = \"Bob hit a ball, the hit BALL flew far after it was hit.\"\n",
    "k = \"!?',;.\"\n",
    "\n",
    "s = s.lower()\n",
    "for char in k:\n",
    "    s = s.replace(char, ' ')\n",
    "\n",
    "co = Counter(s.split())\n",
    "\n",
    "mc = \"\"\n",
    "mf = 0\n",
    "\n",
    "for c, f in co.items():\n",
    "    if c not in banned and f > mf:\n",
    "            mc = c\n",
    "            mf = f\n",
    "print(mc)\n"
   ]
  },
  {
   "cell_type": "markdown",
   "id": "b57d1879",
   "metadata": {},
   "source": [
    "242. Valid Anagram, Given two strings s and t, return true if t is an anagram of s, and false otherwise.\n",
    "\n",
    "Example 1:\n",
    "Input: s = \"anagram\", t = \"nagaram\"\n",
    "Output: true\n",
    "\n",
    "Example 2:\n",
    "Input: s = \"rat\", t = \"car\"\n",
    "Output: false"
   ]
  },
  {
   "cell_type": "code",
   "execution_count": 3,
   "id": "3fa484ad",
   "metadata": {},
   "outputs": [
    {
     "data": {
      "text/plain": [
       "True"
      ]
     },
     "execution_count": 3,
     "metadata": {},
     "output_type": "execute_result"
    }
   ],
   "source": [
    "def ValidAnagram(s,t):\n",
    "    if sorted(s) == sorted(t):\n",
    "        return True\n",
    "    else:\n",
    "        return False\n",
    "\n",
    "\n",
    "ValidAnagram(s='anagram',t='nagaram')\n",
    "#ValidAnagram(s='rat',t='car')"
   ]
  },
  {
   "cell_type": "code",
   "execution_count": null,
   "id": "f3866f1a",
   "metadata": {},
   "outputs": [
    {
     "ename": "KeyError",
     "evalue": "1",
     "output_type": "error",
     "traceback": [
      "\u001b[1;31m---------------------------------------------------------------------------\u001b[0m",
      "\u001b[1;31mKeyError\u001b[0m                                  Traceback (most recent call last)",
      "Cell \u001b[1;32mIn[32], line 11\u001b[0m\n\u001b[0;32m      8\u001b[0m     t1[char1]\u001b[38;5;241m=\u001b[39mt\u001b[38;5;241m.\u001b[39mcount(char1)\n\u001b[0;32m     10\u001b[0m \u001b[38;5;28;01mfor\u001b[39;00m value \u001b[38;5;129;01min\u001b[39;00m s1\u001b[38;5;241m.\u001b[39mvalues():\n\u001b[1;32m---> 11\u001b[0m     \u001b[38;5;28;01mif\u001b[39;00m \u001b[43ms1\u001b[49m\u001b[43m[\u001b[49m\u001b[43mvalue\u001b[49m\u001b[43m]\u001b[49m \u001b[38;5;241m==\u001b[39m t1[value]:\n\u001b[0;32m     12\u001b[0m         \u001b[38;5;28mprint\u001b[39m(s1[value])\n\u001b[0;32m     13\u001b[0m     \u001b[38;5;28;01melse\u001b[39;00m:\n",
      "\u001b[1;31mKeyError\u001b[0m: 1"
     ]
    }
   ],
   "source": [
    "s=\"rat\"\n",
    "t=\"car\"\n",
    "s1 = {}\n",
    "t1 = {}\n",
    "for char in s:\n",
    "    s1[char]=s.count(char)\n",
    "for char1 in t:\n",
    "    t1[char1]=t.count(char1)\n",
    "\n",
    "for value in s1.values():\n",
    "    if s1[value] == t1[value]:\n",
    "        print(s1[value])\n",
    "    else:\n",
    "        print(s1[value])\n",
    "\n",
    "# if len(s1) == len(t1):\n",
    "#     print(True)\n",
    "# else:\n",
    "#     print(False)\n",
    "print(s1)\n",
    "print(t1)\n",
    "\n"
   ]
  },
  {
   "cell_type": "markdown",
   "id": "59106242",
   "metadata": {},
   "source": [
    "13. Roman to integer,    \n",
    "\n",
    "Roman numerals are represented by seven different symbols: I, V, X, L, C, D and M.\n",
    "Symbol       Value\n",
    "I             1\n",
    "V             5\n",
    "X             10\n",
    "L             50\n",
    "C             100\n",
    "D             500\n",
    "M             1000\n",
    "For example, 2 is written as II in Roman numeral, just two ones added together. 12 is written as XII, which is simply X + II. The number 27 is written as XXVII, which is XX + V + II.\n",
    "\n",
    "Roman numerals are usually written largest to smallest from left to right. However, the numeral for four is not IIII. Instead, the number four is written as IV. Because the one is before the five we subtract it making four. The same principle applies to the number nine, which is written as IX. There are six instances where subtraction is used:\n",
    "\n",
    "I can be placed before V (5) and X (10) to make 4 and 9. \n",
    "X can be placed before L (50) and C (100) to make 40 and 90. \n",
    "C can be placed before D (500) and M (1000) to make 400 and 900.\n",
    "Given a roman numeral, convert it to an integer.\n",
    "\n",
    "Example 1:\n",
    "Input: s = \"III\"\n",
    "Output: 3\n",
    "Explanation: III = 3.\n",
    "\n",
    "Example 2:\n",
    "Input: s = \"LVIII\"\n",
    "Output: 58\n",
    "Explanation: L = 50, V= 5, III = 3.\n",
    "\n",
    "Example 3:\n",
    "Input: s = \"MCMXCIV\"\n",
    "Output: 1994\n",
    "Explanation: M = 1000, CM = 900, XC = 90 and IV = 4.\n",
    " "
   ]
  },
  {
   "cell_type": "code",
   "execution_count": 35,
   "id": "3d8e3f5b",
   "metadata": {},
   "outputs": [
    {
     "data": {
      "text/plain": [
       "1994"
      ]
     },
     "execution_count": 35,
     "metadata": {},
     "output_type": "execute_result"
    }
   ],
   "source": [
    "def Roman_to_integer(s):\n",
    "    d = {'I':1,'V':5,'X':10,'L':50,'C':100,'D':500,'M':1000}\n",
    "\n",
    "    total = 0\n",
    "    n = len(s)\n",
    "    i = 0\n",
    "    while i < n:\n",
    "        if  i < n-1 and d[s[i]] < d[s[i+1]]:\n",
    "            total+=d[s[i+1]]-d[s[i]]\n",
    "            i+=2\n",
    "        else:\n",
    "            total+=d[s[i]]\n",
    "            i+=1\n",
    "    return total   \n",
    "\n",
    "\n",
    "Roman_to_integer(s = \"MCMXCIV\")\n",
    "\n"
   ]
  },
  {
   "cell_type": "markdown",
   "id": "56a8c30a",
   "metadata": {},
   "source": [
    "28. Find the index of the first occurrence in a string, Given two strings needle and haystack, return the index of the first occurrence of needle in haystack, or -1 if needle is not part of haystack.\n",
    "\n",
    "Example 1:\n",
    "Input: haystack = \"sadbutsad\", needle = \"sad\"\n",
    "Output: 0\n",
    "Explanation: \"sad\" occurs at index 0 and 6.\n",
    "The first occurrence is at index 0, so we return 0.\n",
    "\n",
    "Example 2:\n",
    "Input: haystack = \"leetcode\", needle = \"leeto\"\n",
    "Output: -1\n",
    "Explanation: \"leeto\" did not occur in \"leetcode\", so we return -1."
   ]
  },
  {
   "cell_type": "code",
   "execution_count": 49,
   "id": "573ed28e",
   "metadata": {},
   "outputs": [
    {
     "name": "stdout",
     "output_type": "stream",
     "text": [
      "-1\n",
      "0\n",
      "-1\n"
     ]
    }
   ],
   "source": [
    "def first_index_occurr(haystack,needle):\n",
    "    for i in range(len(haystack)):\n",
    "        if haystack[i] == needle[0]:\n",
    "            if haystack[i:i+len(needle)] == needle:\n",
    "                return i\n",
    "            \n",
    "    return -1\n",
    "\n",
    "print(first_index_occurr(haystack =  'aaaaa',needle= 'bba'))\n",
    "print(first_index_occurr(haystack=  'sadbutsad', needle= 'sad'))\n",
    "print(first_index_occurr(haystack=  'leetcode', needle=  'leeto'))\n"
   ]
  },
  {
   "cell_type": "markdown",
   "id": "8b7b92c1",
   "metadata": {},
   "source": [
    "392. Is Subsequence, Given two strings s and t, return true if s is a subsequence of t, or false otherwise.\n",
    "\n",
    "A subsequence of a string is a new string that is formed from the original string by deleting some (can be none) of the characters without disturbing the relative positions of the remaining characters. (i.e., \"ace\" is a subsequence of \"abcde\" while \"aec\" is not).\n",
    "\n",
    " \n",
    "\n",
    "Example 1:\n",
    "Input: s = \"abc\", t = \"ahbgdc\"\n",
    "Output: true\n",
    "\n",
    "Example 2:\n",
    "Input: s = \"axc\", t = \"ahbgdc\"\n",
    "Output: false"
   ]
  },
  {
   "cell_type": "code",
   "execution_count": 66,
   "id": "22c0d28f",
   "metadata": {},
   "outputs": [
    {
     "data": {
      "text/plain": [
       "True"
      ]
     },
     "execution_count": 66,
     "metadata": {},
     "output_type": "execute_result"
    }
   ],
   "source": [
    "def issubsequence(s,t):\n",
    "    i = 0\n",
    "    j = 0\n",
    "    while i < len(s) and j < len(t):\n",
    "        if s[i] == t[j]:\n",
    "            i+=1\n",
    "        j+=1\n",
    "    \n",
    "    return i == len(s)\n",
    "\n",
    "issubsequence(s='abc',t='ahbgdc')"
   ]
  },
  {
   "cell_type": "markdown",
   "id": "9155c735",
   "metadata": {},
   "source": [
    "1773. count items matching a rule, You are given an array items, where each items[i] = [typei, colori, namei] describes the type, color, and name of the ith item. You are also given a rule represented by two strings, ruleKey and ruleValue.\n",
    "\n",
    "The ith item is said to match the rule if one of the following is true:\n",
    "\n",
    "ruleKey == \"type\" and ruleValue == typei.\n",
    "ruleKey == \"color\" and ruleValue == colori.\n",
    "ruleKey == \"name\" and ruleValue == namei.\n",
    "Return the number of items that match the given rule.\n",
    "\n",
    "Example 1:\n",
    "Input: items = [[\"phone\",\"blue\",\"pixel\"],[\"computer\",\"silver\",\"lenovo\"],[\"phone\",\"gold\",\"iphone\"]], ruleKey = \"color\", ruleValue = \"silver\"\n",
    "Output: 1\n",
    "Explanation: There is only one item matching the given rule, which is [\"computer\",\"silver\",\"lenovo\"].\n",
    "\n",
    "Example 2:\n",
    "Input: items = [[\"phone\",\"blue\",\"pixel\"],[\"computer\",\"silver\",\"phone\"],[\"phone\",\"gold\",\"iphone\"]], ruleKey = \"type\", ruleValue = \"phone\"\n",
    "Output: 2\n",
    "\n",
    "Explanation: There are only two items matching the given rule, which are [\"phone\",\"blue\",\"pixel\"] and [\"phone\",\"gold\",\"iphone\"]. Note that the item [\"computer\",\"silver\",\"phone\"] does not match."
   ]
  },
  {
   "cell_type": "code",
   "execution_count": 17,
   "id": "60f6cc93",
   "metadata": {},
   "outputs": [
    {
     "data": {
      "text/plain": [
       "2"
      ]
     },
     "execution_count": 17,
     "metadata": {},
     "output_type": "execute_result"
    }
   ],
   "source": [
    "def countitems(items,ruleKey,ruleValue):\n",
    "    value = 0\n",
    "    if 'color' == ruleKey:\n",
    "        value = 1\n",
    "    elif 'name' == ruleKey:\n",
    "        value = 2\n",
    "    count = 0\n",
    "    for i in items:\n",
    "        if i[value] == ruleValue:\n",
    "            count+=1\n",
    "    return count\n",
    "\n",
    "    \n",
    "countitems(items = [[\"phone\",\"blue\",\"pixel\"],[\"computer\",\"silver\",\"lenovo\"],[\"phone\",\"blue\",\"iphone\"]],ruleKey = \"color\", ruleValue = \"blue\")"
   ]
  }
 ],
 "metadata": {
  "kernelspec": {
   "display_name": "base",
   "language": "python",
   "name": "python3"
  },
  "language_info": {
   "codemirror_mode": {
    "name": "ipython",
    "version": 3
   },
   "file_extension": ".py",
   "mimetype": "text/x-python",
   "name": "python",
   "nbconvert_exporter": "python",
   "pygments_lexer": "ipython3",
   "version": "3.12.7"
  }
 },
 "nbformat": 4,
 "nbformat_minor": 5
}
